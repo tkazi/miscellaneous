{
 "cells": [
  {
   "cell_type": "code",
   "execution_count": 2,
   "metadata": {
    "collapsed": true
   },
   "outputs": [],
   "source": [
    "import pandas as pd\n",
    "import numpy as np\n",
    "import matplotlib.pyplot as plt\n",
    "import matplotlib as mpl\n",
    "\n",
    "# pd.set_option('max_columns', 50)\n",
    "# mpl.rcParams['lines.linewidth'] = 2\n",
    "\n",
    "%matplotlib inline"
   ]
  },
  {
   "cell_type": "code",
   "execution_count": 3,
   "metadata": {
    "collapsed": false
   },
   "outputs": [
    {
     "name": "stderr",
     "output_type": "stream",
     "text": [
      "/Users/Taha/anaconda/lib/python2.7/site-packages/IPython/core/interactiveshell.py:2723: DtypeWarning: Columns (0,1,2,3,4,5,7) have mixed types. Specify dtype option on import or set low_memory=False.\n",
      "  interactivity=interactivity, compiler=compiler, result=result)\n"
     ]
    }
   ],
   "source": [
    "df_i = pd.read_csv('../datasets/intercom/insights.csv')\n",
    "df_a = pd.read_csv('../datasets/intercom/apps.csv')"
   ]
  },
  {
   "cell_type": "code",
   "execution_count": 6,
   "metadata": {
    "collapsed": true
   },
   "outputs": [],
   "source": [
    "d_mins = df_a.groupby(['app_id', 'identifier']).created_at.transform(min)\n",
    "df_a_min = df_a[df_a.created_at == d_mins]\n",
    "df_pro = pd.DataFrame(df_a_min[df_a_min['identifier']=='support_pro']['app_id'])"
   ]
  },
  {
   "cell_type": "code",
   "execution_count": 7,
   "metadata": {
    "collapsed": true
   },
   "outputs": [],
   "source": [
    "df_pro = pd.merge(df_pro, df_i, on='app_id')"
   ]
  },
  {
   "cell_type": "code",
   "execution_count": 8,
   "metadata": {
    "collapsed": false
   },
   "outputs": [
    {
     "data": {
      "text/plain": [
       "interval\n",
       "7.0      7784\n",
       "28.0    28704\n",
       "90.0     4083\n",
       "dtype: int64"
      ]
     },
     "execution_count": 8,
     "metadata": {},
     "output_type": "execute_result"
    }
   ],
   "source": [
    "df_pro.groupby(('interval')).size()"
   ]
  },
  {
   "cell_type": "code",
   "execution_count": 10,
   "metadata": {
    "collapsed": false
   },
   "outputs": [
    {
     "data": {
      "text/html": [
       "<div>\n",
       "<table border=\"1\" class=\"dataframe\">\n",
       "  <thead>\n",
       "    <tr style=\"text-align: right;\">\n",
       "      <th></th>\n",
       "      <th>app_id</th>\n",
       "      <th>admin_id</th>\n",
       "      <th>created_at</th>\n",
       "      <th>created_at_date</th>\n",
       "      <th>event_name</th>\n",
       "      <th>intercom_user_id</th>\n",
       "      <th>interval</th>\n",
       "      <th>grouping</th>\n",
       "    </tr>\n",
       "  </thead>\n",
       "  <tbody>\n",
       "    <tr>\n",
       "      <th>0</th>\n",
       "      <td>hnau1zcv</td>\n",
       "      <td>41510</td>\n",
       "      <td>2015-06-25 12:19:14 UTC</td>\n",
       "      <td>25/06/2015</td>\n",
       "      <td>inbox-insights-loaded</td>\n",
       "      <td>545891f114d1025f5f000073</td>\n",
       "      <td>28.0</td>\n",
       "      <td>day</td>\n",
       "    </tr>\n",
       "    <tr>\n",
       "      <th>1</th>\n",
       "      <td>7h3ptpxp</td>\n",
       "      <td>38495</td>\n",
       "      <td>2015-08-07 19:26:21 UTC</td>\n",
       "      <td>07/08/2015</td>\n",
       "      <td>inbox-insights-loaded</td>\n",
       "      <td>54372649342ff86759000001</td>\n",
       "      <td>28.0</td>\n",
       "      <td>day</td>\n",
       "    </tr>\n",
       "    <tr>\n",
       "      <th>2</th>\n",
       "      <td>7h3ptpxp</td>\n",
       "      <td>38495</td>\n",
       "      <td>2015-08-07 19:26:26 UTC</td>\n",
       "      <td>07/08/2015</td>\n",
       "      <td>inbox-insights-loaded</td>\n",
       "      <td>54372649342ff86759000001</td>\n",
       "      <td>7.0</td>\n",
       "      <td>day</td>\n",
       "    </tr>\n",
       "    <tr>\n",
       "      <th>3</th>\n",
       "      <td>7h3ptpxp</td>\n",
       "      <td>38495</td>\n",
       "      <td>2015-08-07 19:26:32 UTC</td>\n",
       "      <td>07/08/2015</td>\n",
       "      <td>inbox-insights-loaded</td>\n",
       "      <td>54372649342ff86759000001</td>\n",
       "      <td>28.0</td>\n",
       "      <td>day</td>\n",
       "    </tr>\n",
       "    <tr>\n",
       "      <th>4</th>\n",
       "      <td>7h3ptpxp</td>\n",
       "      <td>38495</td>\n",
       "      <td>2015-08-07 19:26:34 UTC</td>\n",
       "      <td>07/08/2015</td>\n",
       "      <td>inbox-insights-loaded</td>\n",
       "      <td>54372649342ff86759000001</td>\n",
       "      <td>90.0</td>\n",
       "      <td>day</td>\n",
       "    </tr>\n",
       "  </tbody>\n",
       "</table>\n",
       "</div>"
      ],
      "text/plain": [
       "     app_id admin_id               created_at created_at_date  \\\n",
       "0  hnau1zcv    41510  2015-06-25 12:19:14 UTC      25/06/2015   \n",
       "1  7h3ptpxp    38495  2015-08-07 19:26:21 UTC      07/08/2015   \n",
       "2  7h3ptpxp    38495  2015-08-07 19:26:26 UTC      07/08/2015   \n",
       "3  7h3ptpxp    38495  2015-08-07 19:26:32 UTC      07/08/2015   \n",
       "4  7h3ptpxp    38495  2015-08-07 19:26:34 UTC      07/08/2015   \n",
       "\n",
       "              event_name          intercom_user_id  interval grouping  \n",
       "0  inbox-insights-loaded  545891f114d1025f5f000073      28.0      day  \n",
       "1  inbox-insights-loaded  54372649342ff86759000001      28.0      day  \n",
       "2  inbox-insights-loaded  54372649342ff86759000001       7.0      day  \n",
       "3  inbox-insights-loaded  54372649342ff86759000001      28.0      day  \n",
       "4  inbox-insights-loaded  54372649342ff86759000001      90.0      day  "
      ]
     },
     "execution_count": 10,
     "metadata": {},
     "output_type": "execute_result"
    }
   ],
   "source": [
    "df_pro.head()"
   ]
  },
  {
   "cell_type": "code",
   "execution_count": 12,
   "metadata": {
    "collapsed": false
   },
   "outputs": [],
   "source": [
    "import datetime\n",
    "\n",
    "def change_date_format(date):\n",
    "    return datetime.datetime.strptime(date, \"%d/%m/%Y\").strftime(\"%Y-%m-%d\")\n",
    "\n",
    "df_pro['date'] = df_pro['created_at_date'].apply(change_date_format)\n",
    "\n",
    "df_pro = df_pro.sort_values(by='date', ascending=True)\n"
   ]
  },
  {
   "cell_type": "code",
   "execution_count": 13,
   "metadata": {
    "collapsed": false
   },
   "outputs": [
    {
     "data": {
      "text/html": [
       "<div>\n",
       "<table border=\"1\" class=\"dataframe\">\n",
       "  <thead>\n",
       "    <tr style=\"text-align: right;\">\n",
       "      <th></th>\n",
       "      <th>app_id</th>\n",
       "      <th>admin_id</th>\n",
       "      <th>created_at</th>\n",
       "      <th>created_at_date</th>\n",
       "      <th>event_name</th>\n",
       "      <th>intercom_user_id</th>\n",
       "      <th>interval</th>\n",
       "      <th>grouping</th>\n",
       "      <th>date</th>\n",
       "    </tr>\n",
       "  </thead>\n",
       "  <tbody>\n",
       "    <tr>\n",
       "      <th>16969</th>\n",
       "      <td>ehj523md</td>\n",
       "      <td>89105</td>\n",
       "      <td>2015-05-29 18:39:08 UTC</td>\n",
       "      <td>29/05/2015</td>\n",
       "      <td>inbox-insights-loaded</td>\n",
       "      <td>5565290c72a3a312b40000fa</td>\n",
       "      <td>28.0</td>\n",
       "      <td>day</td>\n",
       "      <td>2015-05-29</td>\n",
       "    </tr>\n",
       "    <tr>\n",
       "      <th>22618</th>\n",
       "      <td>m9tr4b75</td>\n",
       "      <td>36809</td>\n",
       "      <td>2015-05-29 07:00:13 UTC</td>\n",
       "      <td>29/05/2015</td>\n",
       "      <td>inbox-insights-loaded</td>\n",
       "      <td>541fd1482f2ab71db302e318</td>\n",
       "      <td>28.0</td>\n",
       "      <td>day</td>\n",
       "      <td>2015-05-29</td>\n",
       "    </tr>\n",
       "    <tr>\n",
       "      <th>22619</th>\n",
       "      <td>m9tr4b75</td>\n",
       "      <td>36809</td>\n",
       "      <td>2015-05-29 07:00:16 UTC</td>\n",
       "      <td>29/05/2015</td>\n",
       "      <td>inbox-insights-loaded</td>\n",
       "      <td>541fd1482f2ab71db302e318</td>\n",
       "      <td>7.0</td>\n",
       "      <td>day</td>\n",
       "      <td>2015-05-29</td>\n",
       "    </tr>\n",
       "    <tr>\n",
       "      <th>22620</th>\n",
       "      <td>m9tr4b75</td>\n",
       "      <td>14581</td>\n",
       "      <td>2015-05-29 14:00:41 UTC</td>\n",
       "      <td>29/05/2015</td>\n",
       "      <td>inbox-insights-loaded</td>\n",
       "      <td>518bb72dea138e1a33011a93</td>\n",
       "      <td>28.0</td>\n",
       "      <td>day</td>\n",
       "      <td>2015-05-29</td>\n",
       "    </tr>\n",
       "    <tr>\n",
       "      <th>37825</th>\n",
       "      <td>fc2ihik4</td>\n",
       "      <td>54504</td>\n",
       "      <td>2015-05-29 12:15:05 UTC</td>\n",
       "      <td>29/05/2015</td>\n",
       "      <td>inbox-insights-loaded</td>\n",
       "      <td>54cf2fb73e3e5d0b100001c1</td>\n",
       "      <td>7.0</td>\n",
       "      <td>week</td>\n",
       "      <td>2015-05-29</td>\n",
       "    </tr>\n",
       "  </tbody>\n",
       "</table>\n",
       "</div>"
      ],
      "text/plain": [
       "         app_id admin_id               created_at created_at_date  \\\n",
       "16969  ehj523md    89105  2015-05-29 18:39:08 UTC      29/05/2015   \n",
       "22618  m9tr4b75    36809  2015-05-29 07:00:13 UTC      29/05/2015   \n",
       "22619  m9tr4b75    36809  2015-05-29 07:00:16 UTC      29/05/2015   \n",
       "22620  m9tr4b75    14581  2015-05-29 14:00:41 UTC      29/05/2015   \n",
       "37825  fc2ihik4    54504  2015-05-29 12:15:05 UTC      29/05/2015   \n",
       "\n",
       "                  event_name          intercom_user_id  interval grouping  \\\n",
       "16969  inbox-insights-loaded  5565290c72a3a312b40000fa      28.0      day   \n",
       "22618  inbox-insights-loaded  541fd1482f2ab71db302e318      28.0      day   \n",
       "22619  inbox-insights-loaded  541fd1482f2ab71db302e318       7.0      day   \n",
       "22620  inbox-insights-loaded  518bb72dea138e1a33011a93      28.0      day   \n",
       "37825  inbox-insights-loaded  54cf2fb73e3e5d0b100001c1       7.0     week   \n",
       "\n",
       "             date  \n",
       "16969  2015-05-29  \n",
       "22618  2015-05-29  \n",
       "22619  2015-05-29  \n",
       "22620  2015-05-29  \n",
       "37825  2015-05-29  "
      ]
     },
     "execution_count": 13,
     "metadata": {},
     "output_type": "execute_result"
    }
   ],
   "source": [
    "df_pro.head()"
   ]
  },
  {
   "cell_type": "code",
   "execution_count": 23,
   "metadata": {
    "collapsed": false
   },
   "outputs": [
    {
     "data": {
      "text/html": [
       "<div>\n",
       "<table border=\"1\" class=\"dataframe\">\n",
       "  <thead>\n",
       "    <tr style=\"text-align: right;\">\n",
       "      <th></th>\n",
       "      <th>app_id</th>\n",
       "      <th>admin_id</th>\n",
       "      <th>created_at</th>\n",
       "      <th>event_name</th>\n",
       "      <th>intercom_user_id</th>\n",
       "      <th>interval</th>\n",
       "      <th>grouping</th>\n",
       "      <th>date</th>\n",
       "      <th>OrderPeriod</th>\n",
       "    </tr>\n",
       "  </thead>\n",
       "  <tbody>\n",
       "    <tr>\n",
       "      <th>16969</th>\n",
       "      <td>ehj523md</td>\n",
       "      <td>89105</td>\n",
       "      <td>2015-05-29 18:39:08 UTC</td>\n",
       "      <td>inbox-insights-loaded</td>\n",
       "      <td>5565290c72a3a312b40000fa</td>\n",
       "      <td>28.0</td>\n",
       "      <td>day</td>\n",
       "      <td>2015-05-29</td>\n",
       "      <td>2015-05</td>\n",
       "    </tr>\n",
       "    <tr>\n",
       "      <th>22618</th>\n",
       "      <td>m9tr4b75</td>\n",
       "      <td>36809</td>\n",
       "      <td>2015-05-29 07:00:13 UTC</td>\n",
       "      <td>inbox-insights-loaded</td>\n",
       "      <td>541fd1482f2ab71db302e318</td>\n",
       "      <td>28.0</td>\n",
       "      <td>day</td>\n",
       "      <td>2015-05-29</td>\n",
       "      <td>2015-05</td>\n",
       "    </tr>\n",
       "    <tr>\n",
       "      <th>22619</th>\n",
       "      <td>m9tr4b75</td>\n",
       "      <td>36809</td>\n",
       "      <td>2015-05-29 07:00:16 UTC</td>\n",
       "      <td>inbox-insights-loaded</td>\n",
       "      <td>541fd1482f2ab71db302e318</td>\n",
       "      <td>7.0</td>\n",
       "      <td>day</td>\n",
       "      <td>2015-05-29</td>\n",
       "      <td>2015-05</td>\n",
       "    </tr>\n",
       "    <tr>\n",
       "      <th>22620</th>\n",
       "      <td>m9tr4b75</td>\n",
       "      <td>14581</td>\n",
       "      <td>2015-05-29 14:00:41 UTC</td>\n",
       "      <td>inbox-insights-loaded</td>\n",
       "      <td>518bb72dea138e1a33011a93</td>\n",
       "      <td>28.0</td>\n",
       "      <td>day</td>\n",
       "      <td>2015-05-29</td>\n",
       "      <td>2015-05</td>\n",
       "    </tr>\n",
       "    <tr>\n",
       "      <th>37825</th>\n",
       "      <td>fc2ihik4</td>\n",
       "      <td>54504</td>\n",
       "      <td>2015-05-29 12:15:05 UTC</td>\n",
       "      <td>inbox-insights-loaded</td>\n",
       "      <td>54cf2fb73e3e5d0b100001c1</td>\n",
       "      <td>7.0</td>\n",
       "      <td>week</td>\n",
       "      <td>2015-05-29</td>\n",
       "      <td>2015-05</td>\n",
       "    </tr>\n",
       "  </tbody>\n",
       "</table>\n",
       "</div>"
      ],
      "text/plain": [
       "         app_id admin_id               created_at             event_name  \\\n",
       "16969  ehj523md    89105  2015-05-29 18:39:08 UTC  inbox-insights-loaded   \n",
       "22618  m9tr4b75    36809  2015-05-29 07:00:13 UTC  inbox-insights-loaded   \n",
       "22619  m9tr4b75    36809  2015-05-29 07:00:16 UTC  inbox-insights-loaded   \n",
       "22620  m9tr4b75    14581  2015-05-29 14:00:41 UTC  inbox-insights-loaded   \n",
       "37825  fc2ihik4    54504  2015-05-29 12:15:05 UTC  inbox-insights-loaded   \n",
       "\n",
       "               intercom_user_id  interval grouping        date OrderPeriod  \n",
       "16969  5565290c72a3a312b40000fa      28.0      day  2015-05-29     2015-05  \n",
       "22618  541fd1482f2ab71db302e318      28.0      day  2015-05-29     2015-05  \n",
       "22619  541fd1482f2ab71db302e318       7.0      day  2015-05-29     2015-05  \n",
       "22620  518bb72dea138e1a33011a93      28.0      day  2015-05-29     2015-05  \n",
       "37825  54cf2fb73e3e5d0b100001c1       7.0     week  2015-05-29     2015-05  "
      ]
     },
     "execution_count": 23,
     "metadata": {},
     "output_type": "execute_result"
    }
   ],
   "source": [
    "df_pro['OrderPeriod'] = df_pro.date.apply(lambda x: x[0:7])\n",
    "df_pro = df_pro.drop('created_at_date', 1)\n",
    "df_pro.head()"
   ]
  },
  {
   "cell_type": "code",
   "execution_count": 25,
   "metadata": {
    "collapsed": false
   },
   "outputs": [
    {
     "data": {
      "text/html": [
       "<div>\n",
       "<table border=\"1\" class=\"dataframe\">\n",
       "  <thead>\n",
       "    <tr style=\"text-align: right;\">\n",
       "      <th></th>\n",
       "      <th>app_id</th>\n",
       "      <th>admin_id</th>\n",
       "      <th>created_at</th>\n",
       "      <th>event_name</th>\n",
       "      <th>intercom_user_id</th>\n",
       "      <th>interval</th>\n",
       "      <th>grouping</th>\n",
       "      <th>date</th>\n",
       "      <th>OrderPeriod</th>\n",
       "    </tr>\n",
       "  </thead>\n",
       "  <tbody>\n",
       "    <tr>\n",
       "      <th>16969</th>\n",
       "      <td>ehj523md</td>\n",
       "      <td>89105</td>\n",
       "      <td>2015-05-29 18:39:08 UTC</td>\n",
       "      <td>inbox-insights-loaded</td>\n",
       "      <td>5565290c72a3a312b40000fa</td>\n",
       "      <td>28.0</td>\n",
       "      <td>day</td>\n",
       "      <td>2015-05-29</td>\n",
       "      <td>2015-05</td>\n",
       "    </tr>\n",
       "    <tr>\n",
       "      <th>22618</th>\n",
       "      <td>m9tr4b75</td>\n",
       "      <td>36809</td>\n",
       "      <td>2015-05-29 07:00:13 UTC</td>\n",
       "      <td>inbox-insights-loaded</td>\n",
       "      <td>541fd1482f2ab71db302e318</td>\n",
       "      <td>28.0</td>\n",
       "      <td>day</td>\n",
       "      <td>2015-05-29</td>\n",
       "      <td>2015-05</td>\n",
       "    </tr>\n",
       "    <tr>\n",
       "      <th>22619</th>\n",
       "      <td>m9tr4b75</td>\n",
       "      <td>36809</td>\n",
       "      <td>2015-05-29 07:00:16 UTC</td>\n",
       "      <td>inbox-insights-loaded</td>\n",
       "      <td>541fd1482f2ab71db302e318</td>\n",
       "      <td>7.0</td>\n",
       "      <td>day</td>\n",
       "      <td>2015-05-29</td>\n",
       "      <td>2015-05</td>\n",
       "    </tr>\n",
       "    <tr>\n",
       "      <th>22620</th>\n",
       "      <td>m9tr4b75</td>\n",
       "      <td>14581</td>\n",
       "      <td>2015-05-29 14:00:41 UTC</td>\n",
       "      <td>inbox-insights-loaded</td>\n",
       "      <td>518bb72dea138e1a33011a93</td>\n",
       "      <td>28.0</td>\n",
       "      <td>day</td>\n",
       "      <td>2015-05-29</td>\n",
       "      <td>2015-05</td>\n",
       "    </tr>\n",
       "    <tr>\n",
       "      <th>37825</th>\n",
       "      <td>fc2ihik4</td>\n",
       "      <td>54504</td>\n",
       "      <td>2015-05-29 12:15:05 UTC</td>\n",
       "      <td>inbox-insights-loaded</td>\n",
       "      <td>54cf2fb73e3e5d0b100001c1</td>\n",
       "      <td>7.0</td>\n",
       "      <td>week</td>\n",
       "      <td>2015-05-29</td>\n",
       "      <td>2015-05</td>\n",
       "    </tr>\n",
       "  </tbody>\n",
       "</table>\n",
       "</div>"
      ],
      "text/plain": [
       "         app_id admin_id               created_at             event_name  \\\n",
       "16969  ehj523md    89105  2015-05-29 18:39:08 UTC  inbox-insights-loaded   \n",
       "22618  m9tr4b75    36809  2015-05-29 07:00:13 UTC  inbox-insights-loaded   \n",
       "22619  m9tr4b75    36809  2015-05-29 07:00:16 UTC  inbox-insights-loaded   \n",
       "22620  m9tr4b75    14581  2015-05-29 14:00:41 UTC  inbox-insights-loaded   \n",
       "37825  fc2ihik4    54504  2015-05-29 12:15:05 UTC  inbox-insights-loaded   \n",
       "\n",
       "               intercom_user_id  interval grouping        date OrderPeriod  \n",
       "16969  5565290c72a3a312b40000fa      28.0      day  2015-05-29     2015-05  \n",
       "22618  541fd1482f2ab71db302e318      28.0      day  2015-05-29     2015-05  \n",
       "22619  541fd1482f2ab71db302e318       7.0      day  2015-05-29     2015-05  \n",
       "22620  518bb72dea138e1a33011a93      28.0      day  2015-05-29     2015-05  \n",
       "37825  54cf2fb73e3e5d0b100001c1       7.0     week  2015-05-29     2015-05  "
      ]
     },
     "execution_count": 25,
     "metadata": {},
     "output_type": "execute_result"
    }
   ],
   "source": [
    "df = df_pro\n",
    "df.head()"
   ]
  },
  {
   "cell_type": "code",
   "execution_count": 59,
   "metadata": {
    "collapsed": false
   },
   "outputs": [
    {
     "data": {
      "text/html": [
       "<div>\n",
       "<table border=\"1\" class=\"dataframe\">\n",
       "  <thead>\n",
       "    <tr style=\"text-align: right;\">\n",
       "      <th></th>\n",
       "      <th>app_id</th>\n",
       "      <th>admin_id</th>\n",
       "      <th>created_at</th>\n",
       "      <th>event_name</th>\n",
       "      <th>intercom_user_id</th>\n",
       "      <th>interval</th>\n",
       "      <th>grouping</th>\n",
       "      <th>date</th>\n",
       "      <th>OrderPeriod</th>\n",
       "      <th>CohortGroup</th>\n",
       "    </tr>\n",
       "  </thead>\n",
       "  <tbody>\n",
       "    <tr>\n",
       "      <th>0</th>\n",
       "      <td>ehj523md</td>\n",
       "      <td>89105</td>\n",
       "      <td>2015-05-29 18:39:08 UTC</td>\n",
       "      <td>inbox-insights-loaded</td>\n",
       "      <td>5565290c72a3a312b40000fa</td>\n",
       "      <td>28.0</td>\n",
       "      <td>day</td>\n",
       "      <td>2015-05-29</td>\n",
       "      <td>2015-05</td>\n",
       "      <td>2015-05</td>\n",
       "    </tr>\n",
       "    <tr>\n",
       "      <th>1</th>\n",
       "      <td>m9tr4b75</td>\n",
       "      <td>36809</td>\n",
       "      <td>2015-05-29 07:00:13 UTC</td>\n",
       "      <td>inbox-insights-loaded</td>\n",
       "      <td>541fd1482f2ab71db302e318</td>\n",
       "      <td>28.0</td>\n",
       "      <td>day</td>\n",
       "      <td>2015-05-29</td>\n",
       "      <td>2015-05</td>\n",
       "      <td>2015-05</td>\n",
       "    </tr>\n",
       "    <tr>\n",
       "      <th>2</th>\n",
       "      <td>m9tr4b75</td>\n",
       "      <td>36809</td>\n",
       "      <td>2015-05-29 07:00:16 UTC</td>\n",
       "      <td>inbox-insights-loaded</td>\n",
       "      <td>541fd1482f2ab71db302e318</td>\n",
       "      <td>7.0</td>\n",
       "      <td>day</td>\n",
       "      <td>2015-05-29</td>\n",
       "      <td>2015-05</td>\n",
       "      <td>2015-05</td>\n",
       "    </tr>\n",
       "    <tr>\n",
       "      <th>3</th>\n",
       "      <td>m9tr4b75</td>\n",
       "      <td>14581</td>\n",
       "      <td>2015-05-29 14:00:41 UTC</td>\n",
       "      <td>inbox-insights-loaded</td>\n",
       "      <td>518bb72dea138e1a33011a93</td>\n",
       "      <td>28.0</td>\n",
       "      <td>day</td>\n",
       "      <td>2015-05-29</td>\n",
       "      <td>2015-05</td>\n",
       "      <td>2015-05</td>\n",
       "    </tr>\n",
       "    <tr>\n",
       "      <th>4</th>\n",
       "      <td>fc2ihik4</td>\n",
       "      <td>54504</td>\n",
       "      <td>2015-05-29 12:15:05 UTC</td>\n",
       "      <td>inbox-insights-loaded</td>\n",
       "      <td>54cf2fb73e3e5d0b100001c1</td>\n",
       "      <td>7.0</td>\n",
       "      <td>week</td>\n",
       "      <td>2015-05-29</td>\n",
       "      <td>2015-05</td>\n",
       "      <td>2015-05</td>\n",
       "    </tr>\n",
       "  </tbody>\n",
       "</table>\n",
       "</div>"
      ],
      "text/plain": [
       "     app_id admin_id               created_at             event_name  \\\n",
       "0  ehj523md    89105  2015-05-29 18:39:08 UTC  inbox-insights-loaded   \n",
       "1  m9tr4b75    36809  2015-05-29 07:00:13 UTC  inbox-insights-loaded   \n",
       "2  m9tr4b75    36809  2015-05-29 07:00:16 UTC  inbox-insights-loaded   \n",
       "3  m9tr4b75    14581  2015-05-29 14:00:41 UTC  inbox-insights-loaded   \n",
       "4  fc2ihik4    54504  2015-05-29 12:15:05 UTC  inbox-insights-loaded   \n",
       "\n",
       "           intercom_user_id  interval grouping        date OrderPeriod  \\\n",
       "0  5565290c72a3a312b40000fa      28.0      day  2015-05-29     2015-05   \n",
       "1  541fd1482f2ab71db302e318      28.0      day  2015-05-29     2015-05   \n",
       "2  541fd1482f2ab71db302e318       7.0      day  2015-05-29     2015-05   \n",
       "3  518bb72dea138e1a33011a93      28.0      day  2015-05-29     2015-05   \n",
       "4  54cf2fb73e3e5d0b100001c1       7.0     week  2015-05-29     2015-05   \n",
       "\n",
       "  CohortGroup  \n",
       "0     2015-05  \n",
       "1     2015-05  \n",
       "2     2015-05  \n",
       "3     2015-05  \n",
       "4     2015-05  "
      ]
     },
     "execution_count": 59,
     "metadata": {},
     "output_type": "execute_result"
    }
   ],
   "source": [
    "df.set_index('app_id', inplace=True)\n",
    "\n",
    "df['CohortGroup'] = df.groupby(level=0)['date'].min().apply(lambda x: x[0:7])\n",
    "df.reset_index(inplace=True)\n",
    "df.head()"
   ]
  },
  {
   "cell_type": "code",
   "execution_count": 60,
   "metadata": {
    "collapsed": false
   },
   "outputs": [
    {
     "data": {
      "text/html": [
       "<div>\n",
       "<table border=\"1\" class=\"dataframe\">\n",
       "  <thead>\n",
       "    <tr style=\"text-align: right;\">\n",
       "      <th></th>\n",
       "      <th></th>\n",
       "      <th>times_used</th>\n",
       "      <th>total_apps</th>\n",
       "    </tr>\n",
       "    <tr>\n",
       "      <th>CohortGroup</th>\n",
       "      <th>OrderPeriod</th>\n",
       "      <th></th>\n",
       "      <th></th>\n",
       "    </tr>\n",
       "  </thead>\n",
       "  <tbody>\n",
       "    <tr>\n",
       "      <th rowspan=\"5\" valign=\"top\">2015-05</th>\n",
       "      <th>2015-05</th>\n",
       "      <td>441</td>\n",
       "      <td>105</td>\n",
       "    </tr>\n",
       "    <tr>\n",
       "      <th>2015-06</th>\n",
       "      <td>3342</td>\n",
       "      <td>90</td>\n",
       "    </tr>\n",
       "    <tr>\n",
       "      <th>2015-07</th>\n",
       "      <td>2770</td>\n",
       "      <td>71</td>\n",
       "    </tr>\n",
       "    <tr>\n",
       "      <th>2015-08</th>\n",
       "      <td>3247</td>\n",
       "      <td>62</td>\n",
       "    </tr>\n",
       "    <tr>\n",
       "      <th>2015-09</th>\n",
       "      <td>563</td>\n",
       "      <td>47</td>\n",
       "    </tr>\n",
       "    <tr>\n",
       "      <th rowspan=\"4\" valign=\"top\">2015-06</th>\n",
       "      <th>2015-06</th>\n",
       "      <td>4925</td>\n",
       "      <td>594</td>\n",
       "    </tr>\n",
       "    <tr>\n",
       "      <th>2015-07</th>\n",
       "      <td>3433</td>\n",
       "      <td>313</td>\n",
       "    </tr>\n",
       "    <tr>\n",
       "      <th>2015-08</th>\n",
       "      <td>4217</td>\n",
       "      <td>294</td>\n",
       "    </tr>\n",
       "    <tr>\n",
       "      <th>2015-09</th>\n",
       "      <td>781</td>\n",
       "      <td>137</td>\n",
       "    </tr>\n",
       "    <tr>\n",
       "      <th rowspan=\"3\" valign=\"top\">2015-07</th>\n",
       "      <th>2015-07</th>\n",
       "      <td>1670</td>\n",
       "      <td>351</td>\n",
       "    </tr>\n",
       "    <tr>\n",
       "      <th>2015-08</th>\n",
       "      <td>8396</td>\n",
       "      <td>149</td>\n",
       "    </tr>\n",
       "    <tr>\n",
       "      <th>2015-09</th>\n",
       "      <td>293</td>\n",
       "      <td>56</td>\n",
       "    </tr>\n",
       "    <tr>\n",
       "      <th rowspan=\"2\" valign=\"top\">2015-08</th>\n",
       "      <th>2015-08</th>\n",
       "      <td>3476</td>\n",
       "      <td>373</td>\n",
       "    </tr>\n",
       "    <tr>\n",
       "      <th>2015-09</th>\n",
       "      <td>486</td>\n",
       "      <td>77</td>\n",
       "    </tr>\n",
       "    <tr>\n",
       "      <th>2015-09</th>\n",
       "      <th>2015-09</th>\n",
       "      <td>139</td>\n",
       "      <td>50</td>\n",
       "    </tr>\n",
       "  </tbody>\n",
       "</table>\n",
       "</div>"
      ],
      "text/plain": [
       "                         times_used  total_apps\n",
       "CohortGroup OrderPeriod                        \n",
       "2015-05     2015-05             441         105\n",
       "            2015-06            3342          90\n",
       "            2015-07            2770          71\n",
       "            2015-08            3247          62\n",
       "            2015-09             563          47\n",
       "2015-06     2015-06            4925         594\n",
       "            2015-07            3433         313\n",
       "            2015-08            4217         294\n",
       "            2015-09             781         137\n",
       "2015-07     2015-07            1670         351\n",
       "            2015-08            8396         149\n",
       "            2015-09             293          56\n",
       "2015-08     2015-08            3476         373\n",
       "            2015-09             486          77\n",
       "2015-09     2015-09             139          50"
      ]
     },
     "execution_count": 60,
     "metadata": {},
     "output_type": "execute_result"
    }
   ],
   "source": [
    "grouped = df.groupby(['CohortGroup', 'OrderPeriod'])\n",
    "\n",
    "# count the unique users, orders, and total revenue per Group + Period\n",
    "cohorts = grouped.agg({'app_id': pd.Series.nunique,\n",
    "                       'created_at': pd.Series.nunique})\n",
    "\n",
    "# make the column names more meaningful\n",
    "cohorts.rename(columns={'app_id': 'total_apps',\n",
    "                        'created_at': 'times_used'}, inplace=True)\n",
    "\n",
    "cohorts[0:15]"
   ]
  },
  {
   "cell_type": "code",
   "execution_count": 61,
   "metadata": {
    "collapsed": false
   },
   "outputs": [
    {
     "data": {
      "text/html": [
       "<div>\n",
       "<table border=\"1\" class=\"dataframe\">\n",
       "  <thead>\n",
       "    <tr style=\"text-align: right;\">\n",
       "      <th></th>\n",
       "      <th></th>\n",
       "      <th>times_used</th>\n",
       "      <th>total_apps</th>\n",
       "      <th>CohortPeriod</th>\n",
       "    </tr>\n",
       "    <tr>\n",
       "      <th>CohortGroup</th>\n",
       "      <th>OrderPeriod</th>\n",
       "      <th></th>\n",
       "      <th></th>\n",
       "      <th></th>\n",
       "    </tr>\n",
       "  </thead>\n",
       "  <tbody>\n",
       "    <tr>\n",
       "      <th rowspan=\"5\" valign=\"top\">2015-05</th>\n",
       "      <th>2015-05</th>\n",
       "      <td>441</td>\n",
       "      <td>105</td>\n",
       "      <td>1</td>\n",
       "    </tr>\n",
       "    <tr>\n",
       "      <th>2015-06</th>\n",
       "      <td>3342</td>\n",
       "      <td>90</td>\n",
       "      <td>2</td>\n",
       "    </tr>\n",
       "    <tr>\n",
       "      <th>2015-07</th>\n",
       "      <td>2770</td>\n",
       "      <td>71</td>\n",
       "      <td>3</td>\n",
       "    </tr>\n",
       "    <tr>\n",
       "      <th>2015-08</th>\n",
       "      <td>3247</td>\n",
       "      <td>62</td>\n",
       "      <td>4</td>\n",
       "    </tr>\n",
       "    <tr>\n",
       "      <th>2015-09</th>\n",
       "      <td>563</td>\n",
       "      <td>47</td>\n",
       "      <td>5</td>\n",
       "    </tr>\n",
       "    <tr>\n",
       "      <th rowspan=\"4\" valign=\"top\">2015-06</th>\n",
       "      <th>2015-06</th>\n",
       "      <td>4925</td>\n",
       "      <td>594</td>\n",
       "      <td>1</td>\n",
       "    </tr>\n",
       "    <tr>\n",
       "      <th>2015-07</th>\n",
       "      <td>3433</td>\n",
       "      <td>313</td>\n",
       "      <td>2</td>\n",
       "    </tr>\n",
       "    <tr>\n",
       "      <th>2015-08</th>\n",
       "      <td>4217</td>\n",
       "      <td>294</td>\n",
       "      <td>3</td>\n",
       "    </tr>\n",
       "    <tr>\n",
       "      <th>2015-09</th>\n",
       "      <td>781</td>\n",
       "      <td>137</td>\n",
       "      <td>4</td>\n",
       "    </tr>\n",
       "    <tr>\n",
       "      <th rowspan=\"3\" valign=\"top\">2015-07</th>\n",
       "      <th>2015-07</th>\n",
       "      <td>1670</td>\n",
       "      <td>351</td>\n",
       "      <td>1</td>\n",
       "    </tr>\n",
       "    <tr>\n",
       "      <th>2015-08</th>\n",
       "      <td>8396</td>\n",
       "      <td>149</td>\n",
       "      <td>2</td>\n",
       "    </tr>\n",
       "    <tr>\n",
       "      <th>2015-09</th>\n",
       "      <td>293</td>\n",
       "      <td>56</td>\n",
       "      <td>3</td>\n",
       "    </tr>\n",
       "    <tr>\n",
       "      <th rowspan=\"2\" valign=\"top\">2015-08</th>\n",
       "      <th>2015-08</th>\n",
       "      <td>3476</td>\n",
       "      <td>373</td>\n",
       "      <td>1</td>\n",
       "    </tr>\n",
       "    <tr>\n",
       "      <th>2015-09</th>\n",
       "      <td>486</td>\n",
       "      <td>77</td>\n",
       "      <td>2</td>\n",
       "    </tr>\n",
       "    <tr>\n",
       "      <th>2015-09</th>\n",
       "      <th>2015-09</th>\n",
       "      <td>139</td>\n",
       "      <td>50</td>\n",
       "      <td>1</td>\n",
       "    </tr>\n",
       "  </tbody>\n",
       "</table>\n",
       "</div>"
      ],
      "text/plain": [
       "                         times_used  total_apps  CohortPeriod\n",
       "CohortGroup OrderPeriod                                      \n",
       "2015-05     2015-05             441         105             1\n",
       "            2015-06            3342          90             2\n",
       "            2015-07            2770          71             3\n",
       "            2015-08            3247          62             4\n",
       "            2015-09             563          47             5\n",
       "2015-06     2015-06            4925         594             1\n",
       "            2015-07            3433         313             2\n",
       "            2015-08            4217         294             3\n",
       "            2015-09             781         137             4\n",
       "2015-07     2015-07            1670         351             1\n",
       "            2015-08            8396         149             2\n",
       "            2015-09             293          56             3\n",
       "2015-08     2015-08            3476         373             1\n",
       "            2015-09             486          77             2\n",
       "2015-09     2015-09             139          50             1"
      ]
     },
     "execution_count": 61,
     "metadata": {},
     "output_type": "execute_result"
    }
   ],
   "source": [
    "def cohort_period(df):\n",
    "    \"\"\"\n",
    "    Creates a `CohortPeriod` column, which is the Nth period based on the user's first purchase.\n",
    "    \n",
    "    Example\n",
    "    -------\n",
    "    Say you want to get the 3rd month for every user:\n",
    "        df.sort(['UserId', 'OrderTime', inplace=True)\n",
    "        df = df.groupby('UserId').apply(cohort_period)\n",
    "        df[df.CohortPeriod == 3]\n",
    "    \"\"\"\n",
    "    df['CohortPeriod'] = np.arange(len(df)) + 1\n",
    "    return df\n",
    "\n",
    "cohorts = cohorts.groupby(level=0).apply(cohort_period)\n",
    "cohorts[0:20]"
   ]
  },
  {
   "cell_type": "code",
   "execution_count": 62,
   "metadata": {
    "collapsed": false
   },
   "outputs": [
    {
     "data": {
      "text/plain": [
       "CohortGroup\n",
       "2015-05    105\n",
       "2015-06    594\n",
       "2015-07    351\n",
       "2015-08    373\n",
       "2015-09     50\n",
       "Name: total_apps, dtype: int64"
      ]
     },
     "execution_count": 62,
     "metadata": {},
     "output_type": "execute_result"
    }
   ],
   "source": [
    "# reindex the DataFrame\n",
    "cohorts.reset_index(inplace=True)\n",
    "cohorts.set_index(['CohortGroup', 'CohortPeriod'], inplace=True)\n",
    "\n",
    "# create a Series holding the total size of each CohortGroup\n",
    "cohort_group_size = cohorts['total_apps'].groupby(level=0).first()\n",
    "cohort_group_size.head()"
   ]
  },
  {
   "cell_type": "code",
   "execution_count": 63,
   "metadata": {
    "collapsed": false
   },
   "outputs": [
    {
     "data": {
      "text/plain": [
       "CohortGroup  CohortPeriod\n",
       "2015-05      1               105\n",
       "             2                90\n",
       "             3                71\n",
       "             4                62\n",
       "             5                47\n",
       "Name: total_apps, dtype: int64"
      ]
     },
     "execution_count": 63,
     "metadata": {},
     "output_type": "execute_result"
    }
   ],
   "source": [
    "cohorts['total_apps'].head()"
   ]
  },
  {
   "cell_type": "code",
   "execution_count": 64,
   "metadata": {
    "collapsed": false
   },
   "outputs": [
    {
     "data": {
      "text/html": [
       "<div>\n",
       "<table border=\"1\" class=\"dataframe\">\n",
       "  <thead>\n",
       "    <tr style=\"text-align: right;\">\n",
       "      <th>CohortGroup</th>\n",
       "      <th>2015-05</th>\n",
       "      <th>2015-06</th>\n",
       "      <th>2015-07</th>\n",
       "      <th>2015-08</th>\n",
       "      <th>2015-09</th>\n",
       "    </tr>\n",
       "    <tr>\n",
       "      <th>CohortPeriod</th>\n",
       "      <th></th>\n",
       "      <th></th>\n",
       "      <th></th>\n",
       "      <th></th>\n",
       "      <th></th>\n",
       "    </tr>\n",
       "  </thead>\n",
       "  <tbody>\n",
       "    <tr>\n",
       "      <th>1</th>\n",
       "      <td>105.0</td>\n",
       "      <td>594.0</td>\n",
       "      <td>351.0</td>\n",
       "      <td>373.0</td>\n",
       "      <td>50.0</td>\n",
       "    </tr>\n",
       "    <tr>\n",
       "      <th>2</th>\n",
       "      <td>90.0</td>\n",
       "      <td>313.0</td>\n",
       "      <td>149.0</td>\n",
       "      <td>77.0</td>\n",
       "      <td>NaN</td>\n",
       "    </tr>\n",
       "    <tr>\n",
       "      <th>3</th>\n",
       "      <td>71.0</td>\n",
       "      <td>294.0</td>\n",
       "      <td>56.0</td>\n",
       "      <td>NaN</td>\n",
       "      <td>NaN</td>\n",
       "    </tr>\n",
       "    <tr>\n",
       "      <th>4</th>\n",
       "      <td>62.0</td>\n",
       "      <td>137.0</td>\n",
       "      <td>NaN</td>\n",
       "      <td>NaN</td>\n",
       "      <td>NaN</td>\n",
       "    </tr>\n",
       "    <tr>\n",
       "      <th>5</th>\n",
       "      <td>47.0</td>\n",
       "      <td>NaN</td>\n",
       "      <td>NaN</td>\n",
       "      <td>NaN</td>\n",
       "      <td>NaN</td>\n",
       "    </tr>\n",
       "  </tbody>\n",
       "</table>\n",
       "</div>"
      ],
      "text/plain": [
       "CohortGroup   2015-05  2015-06  2015-07  2015-08  2015-09\n",
       "CohortPeriod                                             \n",
       "1               105.0    594.0    351.0    373.0     50.0\n",
       "2                90.0    313.0    149.0     77.0      NaN\n",
       "3                71.0    294.0     56.0      NaN      NaN\n",
       "4                62.0    137.0      NaN      NaN      NaN\n",
       "5                47.0      NaN      NaN      NaN      NaN"
      ]
     },
     "execution_count": 64,
     "metadata": {},
     "output_type": "execute_result"
    }
   ],
   "source": [
    "cohorts['total_apps'].unstack(0).head()"
   ]
  },
  {
   "cell_type": "code",
   "execution_count": 66,
   "metadata": {
    "collapsed": false
   },
   "outputs": [
    {
     "data": {
      "text/html": [
       "<div>\n",
       "<table border=\"1\" class=\"dataframe\">\n",
       "  <thead>\n",
       "    <tr style=\"text-align: right;\">\n",
       "      <th>CohortGroup</th>\n",
       "      <th>2015-05</th>\n",
       "      <th>2015-06</th>\n",
       "      <th>2015-07</th>\n",
       "      <th>2015-08</th>\n",
       "      <th>2015-09</th>\n",
       "    </tr>\n",
       "    <tr>\n",
       "      <th>CohortPeriod</th>\n",
       "      <th></th>\n",
       "      <th></th>\n",
       "      <th></th>\n",
       "      <th></th>\n",
       "      <th></th>\n",
       "    </tr>\n",
       "  </thead>\n",
       "  <tbody>\n",
       "    <tr>\n",
       "      <th>1</th>\n",
       "      <td>1.000000</td>\n",
       "      <td>1.000000</td>\n",
       "      <td>1.000000</td>\n",
       "      <td>1.000000</td>\n",
       "      <td>1.0</td>\n",
       "    </tr>\n",
       "    <tr>\n",
       "      <th>2</th>\n",
       "      <td>0.857143</td>\n",
       "      <td>0.526936</td>\n",
       "      <td>0.424501</td>\n",
       "      <td>0.206434</td>\n",
       "      <td>NaN</td>\n",
       "    </tr>\n",
       "    <tr>\n",
       "      <th>3</th>\n",
       "      <td>0.676190</td>\n",
       "      <td>0.494949</td>\n",
       "      <td>0.159544</td>\n",
       "      <td>NaN</td>\n",
       "      <td>NaN</td>\n",
       "    </tr>\n",
       "    <tr>\n",
       "      <th>4</th>\n",
       "      <td>0.590476</td>\n",
       "      <td>0.230640</td>\n",
       "      <td>NaN</td>\n",
       "      <td>NaN</td>\n",
       "      <td>NaN</td>\n",
       "    </tr>\n",
       "    <tr>\n",
       "      <th>5</th>\n",
       "      <td>0.447619</td>\n",
       "      <td>NaN</td>\n",
       "      <td>NaN</td>\n",
       "      <td>NaN</td>\n",
       "      <td>NaN</td>\n",
       "    </tr>\n",
       "  </tbody>\n",
       "</table>\n",
       "</div>"
      ],
      "text/plain": [
       "CohortGroup    2015-05   2015-06   2015-07   2015-08  2015-09\n",
       "CohortPeriod                                                 \n",
       "1             1.000000  1.000000  1.000000  1.000000      1.0\n",
       "2             0.857143  0.526936  0.424501  0.206434      NaN\n",
       "3             0.676190  0.494949  0.159544       NaN      NaN\n",
       "4             0.590476  0.230640       NaN       NaN      NaN\n",
       "5             0.447619       NaN       NaN       NaN      NaN"
      ]
     },
     "execution_count": 66,
     "metadata": {},
     "output_type": "execute_result"
    }
   ],
   "source": [
    "user_retention = cohorts['total_apps'].unstack(0).divide(cohort_group_size, axis=1)\n",
    "user_retention.head(10)"
   ]
  },
  {
   "cell_type": "code",
   "execution_count": 40,
   "metadata": {
    "collapsed": false
   },
   "outputs": [
    {
     "data": {
      "text/plain": [
       "<matplotlib.axes._subplots.AxesSubplot at 0x11873f910>"
      ]
     },
     "execution_count": 40,
     "metadata": {},
     "output_type": "execute_result"
    },
    {
     "data": {
      "image/png": "[encoded data removed]",
      "text/plain": [
       "<matplotlib.figure.Figure at 0x116346050>"
      ]
     },
     "metadata": {},
     "output_type": "display_data"
    }
   ],
   "source": [
    "user_retention[['2015-05', '2015-06', '2015-07','2015-08','2015-09']].plot(figsize=(8,4))"
   ]
  },
  {
   "cell_type": "code",
   "execution_count": 67,
   "metadata": {
    "collapsed": false
   },
   "outputs": [
    {
     "data": {
      "text/plain": [
       "<matplotlib.axes._subplots.AxesSubplot at 0x118ec0590>"
      ]
     },
     "execution_count": 67,
     "metadata": {},
     "output_type": "execute_result"
    },
    {
     "data": {
      "image/png": "[encoded data removed]",
      "text/plain": [
       "<matplotlib.figure.Figure at 0x118ebcd10>"
      ]
     },
     "metadata": {},
     "output_type": "display_data"
    }
   ],
   "source": [
    "user_retention[['2015-05', '2015-06', '2015-07','2015-08','2015-09']].plot(figsize=(8,4))"
   ]
  },
  {
   "cell_type": "code",
   "execution_count": null,
   "metadata": {
    "collapsed": true
   },
   "outputs": [],
   "source": [
    "user_retention.plot(figsize=(8,4))"
   ]
  }
 ],
 "metadata": {
  "kernelspec": {
   "display_name": "Python 2",
   "language": "python",
   "name": "python2"
  },
  "language_info": {
   "codemirror_mode": {
    "name": "ipython",
    "version": 2
   },
   "file_extension": ".py",
   "mimetype": "text/x-python",
   "name": "python",
   "nbconvert_exporter": "python",
   "pygments_lexer": "ipython2",
   "version": "2.7.11"
  }
 },
 "nbformat": 4,
 "nbformat_minor": 0
}
