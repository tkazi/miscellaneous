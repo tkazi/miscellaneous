{
 "cells": [
  {
   "cell_type": "code",
   "execution_count": 1,
   "metadata": {
    "collapsed": true
   },
   "outputs": [],
   "source": [
    "%matplotlib inline\n",
    "import pylab\n",
    "import sqlite3\n",
    "import pandas as pd\n",
    "import matplotlib\n",
    "import matplotlib.pyplot as plt\n",
    "\n",
    "import warnings\n",
    "warnings.filterwarnings('ignore')\n",
    "\n",
    "from pandas import Series, DataFrame\n",
    "import numpy as np\n",
    "\n",
    "import seaborn as sns\n",
    "sns.set_style('whitegrid')\n",
    "from datetime import datetime\n",
    "from __future__ import division\n",
    "\n",
    "\n",
    "\n",
    "pylab.rcParams['figure.figsize'] = (10,6)\n"
   ]
  },
  {
   "cell_type": "code",
   "execution_count": 2,
   "metadata": {
    "collapsed": false
   },
   "outputs": [],
   "source": [
    "conn = sqlite3.connect('/Users/Taha/Desktop/datascience/datasets/DeathRecords/database.sqlite')\n",
    "\n",
    "query = \"\"\"\n",
    "Select name from sqlite_master where type = 'table';\n",
    "\"\"\"\n",
    "    \n",
    "df_tables = pd.read_sql(query, conn)\n"
   ]
  },
  {
   "cell_type": "code",
   "execution_count": 3,
   "metadata": {
    "collapsed": false
   },
   "outputs": [],
   "source": [
    "query = \"\"\"\n",
    "Select \n",
    "    id, \n",
    "    MonthOfDeath month, \n",
    "    dayOfWeekOfDeath week_day, \n",
    "    sex sex, \n",
    "    Age age, \n",
    "    ms.description marital_status, \n",
    "    injuryAtWork,\n",
    "    mod.description death_manner, \n",
    "    md.description dispose_method, \n",
    "    Autopsy, \n",
    "    r.description race, \n",
    "    ic.description cause_death,\n",
    "    ac.description activity\n",
    "     \n",
    "from deathrecords dr\n",
    "\n",
    "join maritalStatus ms on ms.code = dr.maritalStatus\n",
    "join mannerOfDeath mod on mod.code = dr.mannerOfDeath\n",
    "join MethodOfDisposition md on md.code = dr.MethodOfDisposition\n",
    "join Icd10Code ic on ic.code = dr.Icd10Code\n",
    "join ActivityCode ac on ac.code = dr.ActivityCode\n",
    "join race r on r.code = dr.race\n",
    "where agetype = 1\n",
    "and age < 150\n",
    "\n",
    "\"\"\"\n",
    "\n",
    "# query = \"select * from maritalstatus\"\n",
    "\n",
    "df = pd.read_sql(query, conn)\n"
   ]
  },
  {
   "cell_type": "code",
   "execution_count": 4,
   "metadata": {
    "collapsed": false
   },
   "outputs": [],
   "source": [
    "df = df.set_index(['Id'])"
   ]
  },
  {
   "cell_type": "code",
   "execution_count": 5,
   "metadata": {
    "collapsed": false
   },
   "outputs": [],
   "source": [
    "# df.describe()\n",
    "# df.dtypes\n",
    "\n",
    "df['week_day'] = pd.to_numeric(df['week_day'], errors='coerce')"
   ]
  },
  {
   "cell_type": "code",
   "execution_count": 9,
   "metadata": {
    "collapsed": false
   },
   "outputs": [
    {
     "data": {
      "image/png": "[encoded data removed]",
      "text/plain": [
       "<matplotlib.figure.Figure at 0x12bda6b10>"
      ]
     },
     "metadata": {},
     "output_type": "display_data"
    }
   ],
   "source": [
    "plt.style.available\n",
    "[u'dark_background', u'grayscale', u'ggplot']\n",
    "plt.style.use('ggplot')\n",
    "\n",
    "plt.hist(df['age'], bins=50, alpha=0.75)\n",
    "plt.show()"
   ]
  },
  {
   "cell_type": "code",
   "execution_count": 6,
   "metadata": {
    "collapsed": false
   },
   "outputs": [],
   "source": [
    "import warnings\n",
    "warnings.filterwarnings('ignore')\n",
    "\n",
    "df['age_group'] = '0-18'\n",
    "\n",
    "df['age_group'][(df['age'] > 18) & (df['age'] <= 25)] = '18-25'\n",
    "\n",
    "df['age_group'][(df['age'] > 25) & (df['age'] <= 40)] = '25-40'\n",
    "\n",
    "df['age_group'][(df['age'] > 40) & (df['age'] <= 60)] = '40-60'\n",
    "\n",
    "df['age_group'][df['age'] > 60] = '60+'"
   ]
  },
  {
   "cell_type": "code",
   "execution_count": 7,
   "metadata": {
    "collapsed": false
   },
   "outputs": [
    {
     "data": {
      "text/html": [
       "<div>\n",
       "<table border=\"1\" class=\"dataframe\">\n",
       "  <thead>\n",
       "    <tr style=\"text-align: right;\">\n",
       "      <th></th>\n",
       "      <th>deaths</th>\n",
       "    </tr>\n",
       "    <tr>\n",
       "      <th>age_group</th>\n",
       "      <th></th>\n",
       "    </tr>\n",
       "  </thead>\n",
       "  <tbody>\n",
       "    <tr>\n",
       "      <th>0-18</th>\n",
       "      <td>15249</td>\n",
       "    </tr>\n",
       "    <tr>\n",
       "      <th>18-25</th>\n",
       "      <td>25182</td>\n",
       "    </tr>\n",
       "    <tr>\n",
       "      <th>25-40</th>\n",
       "      <td>75590</td>\n",
       "    </tr>\n",
       "    <tr>\n",
       "      <th>40-60</th>\n",
       "      <td>391163</td>\n",
       "    </tr>\n",
       "    <tr>\n",
       "      <th>60+</th>\n",
       "      <td>1977476</td>\n",
       "    </tr>\n",
       "  </tbody>\n",
       "</table>\n",
       "</div>"
      ],
      "text/plain": [
       "            deaths\n",
       "age_group         \n",
       "0-18         15249\n",
       "18-25        25182\n",
       "25-40        75590\n",
       "40-60       391163\n",
       "60+        1977476"
      ]
     },
     "execution_count": 7,
     "metadata": {},
     "output_type": "execute_result"
    }
   ],
   "source": [
    "df_ = pd.DataFrame(df.groupby('age_group').size()).rename(columns={0:'deaths'})\n",
    "\n",
    "df_"
   ]
  },
  {
   "cell_type": "code",
   "execution_count": 10,
   "metadata": {
    "collapsed": false
   },
   "outputs": [
    {
     "data": {
      "image/png": "[encoded data removed]",
      "text/plain": [
       "<matplotlib.figure.Figure at 0x136084450>"
      ]
     },
     "metadata": {},
     "output_type": "display_data"
    }
   ],
   "source": [
    "objects = ('0-18', '18-25', '25-40', '40-60', '60+')\n",
    "y_pos = np.arange(len(objects))\n",
    "#performance = [10,8,6,4,2]\n",
    " \n",
    "plt.bar(y_pos, df_['deaths'], align='center', alpha=0.5)\n",
    "plt.xticks(y_pos, objects)\n",
    "plt.ylabel('Usage')\n",
    "#plt.title('Programming language usage')\n",
    " \n",
    "plt.show()"
   ]
  },
  {
   "cell_type": "code",
   "execution_count": 18,
   "metadata": {
    "collapsed": false
   },
   "outputs": [],
   "source": [
    "df_new = df[['InjuryAtWork','death_manner','cause_death','age_group','marital_status','sex','age']]\n",
    "\n",
    "df_s = df_new.loc[df_new['death_manner'] == 'Suicide'] \n",
    "\n",
    "#df_s.groupby(['age_group', 'death_manner']).size()\n",
    "\n"
   ]
  },
  {
   "cell_type": "code",
   "execution_count": 20,
   "metadata": {
    "collapsed": false
   },
   "outputs": [],
   "source": [
    "df_s_m = df_s.loc[ df_s['sex'] == 'M' ]\n",
    "df_s_f = df_s.loc[ df_s['sex'] == 'F' ]\n"
   ]
  },
  {
   "cell_type": "code",
   "execution_count": 31,
   "metadata": {
    "collapsed": false
   },
   "outputs": [
    {
     "data": {
      "image/png": "[encoded data removed]",
      "text/plain": [
       "<matplotlib.figure.Figure at 0x125216050>"
      ]
     },
     "metadata": {},
     "output_type": "display_data"
    }
   ],
   "source": [
    "# df_s_m.groupby('age').size().plot()\n",
    "\n",
    "plt.plot(df_s_m.groupby('age').size())\n",
    "plt.plot(df_s_f.groupby('age').size())\n",
    "\n",
    "plt.legend(['male', 'female'], loc='upper right', fontsize=16)\n",
    "plt.xlabel('Age', fontsize=16)\n",
    "plt.ylabel('Deaths', fontsize=16)\n",
    "\n",
    "plt.show()"
   ]
  },
  {
   "cell_type": "markdown",
   "metadata": {},
   "source": [
    "\n",
    "QUESTION:\n",
    "Why is there a huge gap between male and female deaths?\n"
   ]
  },
  {
   "cell_type": "code",
   "execution_count": 12,
   "metadata": {
    "collapsed": false
   },
   "outputs": [
    {
     "data": {
      "text/plain": [
       "marital_status\n",
       "Divorced                  31.704801\n",
       "Marital Status unknown     1.341264\n",
       "Married                   42.313528\n",
       "Never married, single     20.907932\n",
       "Widowed                    3.732476\n",
       "dtype: float64"
      ]
     },
     "execution_count": 12,
     "metadata": {},
     "output_type": "execute_result"
    }
   ],
   "source": [
    "df_s_m = df_s.loc[df_s['age_group'] == '40-60']\n",
    "\n",
    "df_s_m.groupby('marital_status').size()  * 100 / df_s_m['marital_status'].count()\n"
   ]
  },
  {
   "cell_type": "code",
   "execution_count": 145,
   "metadata": {
    "collapsed": false
   },
   "outputs": [
    {
     "data": {
      "text/html": [
       "<div>\n",
       "<table border=\"1\" class=\"dataframe\">\n",
       "  <thead>\n",
       "    <tr style=\"text-align: right;\">\n",
       "      <th></th>\n",
       "      <th>sex</th>\n",
       "      <th>week_day</th>\n",
       "      <th>age_group</th>\n",
       "    </tr>\n",
       "  </thead>\n",
       "  <tbody>\n",
       "    <tr>\n",
       "      <th>count</th>\n",
       "      <td>41734</td>\n",
       "      <td>41734</td>\n",
       "      <td>41734</td>\n",
       "    </tr>\n",
       "    <tr>\n",
       "      <th>unique</th>\n",
       "      <td>2</td>\n",
       "      <td>8</td>\n",
       "      <td>5</td>\n",
       "    </tr>\n",
       "    <tr>\n",
       "      <th>top</th>\n",
       "      <td>M</td>\n",
       "      <td>2</td>\n",
       "      <td>40-60</td>\n",
       "    </tr>\n",
       "    <tr>\n",
       "      <th>freq</th>\n",
       "      <td>32284</td>\n",
       "      <td>6681</td>\n",
       "      <td>16477</td>\n",
       "    </tr>\n",
       "  </tbody>\n",
       "</table>\n",
       "</div>"
      ],
      "text/plain": [
       "          sex week_day age_group\n",
       "count   41734    41734     41734\n",
       "unique      2        8         5\n",
       "top         M        2     40-60\n",
       "freq    32284     6681     16477"
      ]
     },
     "execution_count": 145,
     "metadata": {},
     "output_type": "execute_result"
    }
   ],
   "source": [
    "df_week_suicide_s = df[['sex','week_day','age_group']].loc[df['death_manner'] == 'Suicide']\n",
    "\n",
    "df_week_suicide_s.describe()\n"
   ]
  },
  {
   "cell_type": "code",
   "execution_count": 146,
   "metadata": {
    "collapsed": false
   },
   "outputs": [
    {
     "data": {
      "text/plain": [
       "week_day\n",
       "1    5705\n",
       "2    6681\n",
       "3    6315\n",
       "4    6118\n",
       "5    5891\n",
       "6    5711\n",
       "7    5281\n",
       "9      32\n",
       "dtype: int64"
      ]
     },
     "execution_count": 146,
     "metadata": {},
     "output_type": "execute_result"
    }
   ],
   "source": [
    "df_week_suicide_s.groupby('week_day').size()"
   ]
  },
  {
   "cell_type": "code",
   "execution_count": 147,
   "metadata": {
    "collapsed": false
   },
   "outputs": [],
   "source": [
    "df_week_s_s = df_week_suicide_s.drop(df_week_suicide_s[df_week_suicide_s['week_day'] == '9'].index)"
   ]
  },
  {
   "cell_type": "code",
   "execution_count": 148,
   "metadata": {
    "collapsed": false
   },
   "outputs": [
    {
     "data": {
      "text/html": [
       "<div>\n",
       "<table border=\"1\" class=\"dataframe\">\n",
       "  <thead>\n",
       "    <tr style=\"text-align: right;\">\n",
       "      <th></th>\n",
       "      <th>sex</th>\n",
       "      <th>week_day</th>\n",
       "      <th>age_group</th>\n",
       "    </tr>\n",
       "  </thead>\n",
       "  <tbody>\n",
       "    <tr>\n",
       "      <th>count</th>\n",
       "      <td>41702</td>\n",
       "      <td>41702</td>\n",
       "      <td>41702</td>\n",
       "    </tr>\n",
       "    <tr>\n",
       "      <th>unique</th>\n",
       "      <td>2</td>\n",
       "      <td>7</td>\n",
       "      <td>5</td>\n",
       "    </tr>\n",
       "    <tr>\n",
       "      <th>top</th>\n",
       "      <td>M</td>\n",
       "      <td>2</td>\n",
       "      <td>40-60</td>\n",
       "    </tr>\n",
       "    <tr>\n",
       "      <th>freq</th>\n",
       "      <td>32256</td>\n",
       "      <td>6681</td>\n",
       "      <td>16465</td>\n",
       "    </tr>\n",
       "  </tbody>\n",
       "</table>\n",
       "</div>"
      ],
      "text/plain": [
       "          sex week_day age_group\n",
       "count   41702    41702     41702\n",
       "unique      2        7         5\n",
       "top         M        2     40-60\n",
       "freq    32256     6681     16465"
      ]
     },
     "execution_count": 148,
     "metadata": {},
     "output_type": "execute_result"
    }
   ],
   "source": [
    "df_week_s_s.describe()\n",
    "\n",
    "# df_week_suicide = pd.DataFrame(df.groupby(['sex','']).size())\n",
    "\n",
    "# objects = ('1', '2', '3', '4', '5','6','7')\n",
    "# y_pos = np.arange(len(objects))\n",
    "# #performance = [10,8,6,4,2]\n",
    " \n",
    "# plt.bar(y_pos, df['week_day'], align='center', alpha=0.5)\n",
    "# plt.xticks(y_pos, objects)\n",
    "# plt.ylabel('Usage')\n",
    "# #plt.title('Programming language usage')\n",
    " \n",
    "# plt.show()"
   ]
  },
  {
   "cell_type": "code",
   "execution_count": 36,
   "metadata": {
    "collapsed": false
   },
   "outputs": [],
   "source": [
    "from pandas.tools.plotting import scatter_matrix\n"
   ]
  },
  {
   "cell_type": "code",
   "execution_count": 37,
   "metadata": {
    "collapsed": true
   },
   "outputs": [],
   "source": [
    "dfc = df[['age_group','week_day']].loc[df['death_manner'] == 'Suicide']"
   ]
  },
  {
   "cell_type": "code",
   "execution_count": 42,
   "metadata": {
    "collapsed": false
   },
   "outputs": [],
   "source": [
    "dfc['days'] = '-'\n",
    "\n",
    "dfc['days'][dfc['week_day'] == 1] = 'sun'\n",
    "dfc['days'][dfc['week_day'] == 2] = 'mon'\n",
    "dfc['days'][dfc['week_day'] == 3] = 'tue'\n",
    "dfc['days'][dfc['week_day'] == 4] = 'wed'\n",
    "dfc['days'][dfc['week_day'] == 5] = 'thu'\n",
    "dfc['days'][dfc['week_day'] == 6] = 'fri'\n",
    "dfc['days'][dfc['week_day'] == 7] = 'sat'\n",
    "\n"
   ]
  },
  {
   "cell_type": "code",
   "execution_count": 43,
   "metadata": {
    "collapsed": false
   },
   "outputs": [
    {
     "data": {
      "text/plain": [
       "age_group  days\n",
       "0-18       -          2\n",
       "           fri      233\n",
       "           mon      269\n",
       "           sat      212\n",
       "           sun      226\n",
       "           thu      276\n",
       "           tue      257\n",
       "           wed      263\n",
       "18-25      -          3\n",
       "           fri      549\n",
       "           mon      646\n",
       "           sat      601\n",
       "           sun      618\n",
       "           thu      567\n",
       "           tue      639\n",
       "           wed      554\n",
       "25-40      -          8\n",
       "           fri     1298\n",
       "           mon     1505\n",
       "           sat     1236\n",
       "           sun     1372\n",
       "           thu     1261\n",
       "           tue     1361\n",
       "           wed     1368\n",
       "40-60      -         12\n",
       "           fri     2268\n",
       "           mon     2642\n",
       "           sat     1991\n",
       "           sun     2191\n",
       "           thu     2381\n",
       "           tue     2550\n",
       "           wed     2442\n",
       "60+        -          7\n",
       "           fri     1363\n",
       "           mon     1619\n",
       "           sat     1241\n",
       "           sun     1298\n",
       "           thu     1406\n",
       "           tue     1508\n",
       "           wed     1491\n",
       "dtype: int64"
      ]
     },
     "execution_count": 43,
     "metadata": {},
     "output_type": "execute_result"
    }
   ],
   "source": [
    "dfc.groupby(['age_group','days']).size()"
   ]
  },
  {
   "cell_type": "code",
   "execution_count": null,
   "metadata": {
    "collapsed": true
   },
   "outputs": [],
   "source": []
  }
 ],
 "metadata": {
  "kernelspec": {
   "display_name": "Python 2",
   "language": "python",
   "name": "python2"
  },
  "language_info": {
   "codemirror_mode": {
    "name": "ipython",
    "version": 2
   },
   "file_extension": ".py",
   "mimetype": "text/x-python",
   "name": "python",
   "nbconvert_exporter": "python",
   "pygments_lexer": "ipython2",
   "version": "2.7.11"
  }
 },
 "nbformat": 4,
 "nbformat_minor": 0
}
