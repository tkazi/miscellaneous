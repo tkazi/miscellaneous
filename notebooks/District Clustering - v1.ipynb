{
 "cells": [
  {
   "cell_type": "code",
   "execution_count": 2,
   "metadata": {
    "collapsed": true
   },
   "outputs": [],
   "source": [
    "import pandas as pd\n",
    "import seaborn as sns\n",
    "from __future__ import division\n",
    "import matplotlib.pyplot as plt\n",
    "from sklearn.cluster import KMeans\n",
    "import sklearn.preprocessing as skpp\n",
    "from pandas.tools.plotting import scatter_matrix\n",
    "\n",
    "%matplotlib inline\n",
    "sns.set_style('whitegrid')\n"
   ]
  },
  {
   "cell_type": "code",
   "execution_count": 3,
   "metadata": {
    "collapsed": true
   },
   "outputs": [],
   "source": [
    "# reading csv file that was an export from hue\n",
    "df = pd.read_csv('/Users/Taha/Downloads/cluster-districts.csv')"
   ]
  },
  {
   "cell_type": "code",
   "execution_count": 9,
   "metadata": {
    "collapsed": false
   },
   "outputs": [
    {
     "data": {
      "text/html": [
       "<div>\n",
       "<table border=\"1\" class=\"dataframe\">\n",
       "  <thead>\n",
       "    <tr style=\"text-align: right;\">\n",
       "      <th></th>\n",
       "      <th>date</th>\n",
       "      <th>month</th>\n",
       "      <th>id</th>\n",
       "      <th>name</th>\n",
       "      <th>state</th>\n",
       "      <th>county</th>\n",
       "      <th>7d</th>\n",
       "      <th>28d</th>\n",
       "      <th>schools</th>\n",
       "      <th>max_7d</th>\n",
       "      <th>registered</th>\n",
       "      <th>nces_teachers</th>\n",
       "    </tr>\n",
       "  </thead>\n",
       "  <tbody>\n",
       "    <tr>\n",
       "      <th>0</th>\n",
       "      <td>2014-07-01</td>\n",
       "      <td>7</td>\n",
       "      <td>11915</td>\n",
       "      <td>Anthony Wayne Local</td>\n",
       "      <td>OH</td>\n",
       "      <td>Lucas</td>\n",
       "      <td>2</td>\n",
       "      <td>15</td>\n",
       "      <td>6</td>\n",
       "      <td>19</td>\n",
       "      <td>72</td>\n",
       "      <td>207</td>\n",
       "    </tr>\n",
       "    <tr>\n",
       "      <th>1</th>\n",
       "      <td>2014-07-01</td>\n",
       "      <td>7</td>\n",
       "      <td>105</td>\n",
       "      <td>Marshall County</td>\n",
       "      <td>AL</td>\n",
       "      <td>Marshall</td>\n",
       "      <td>0</td>\n",
       "      <td>7</td>\n",
       "      <td>16</td>\n",
       "      <td>15</td>\n",
       "      <td>125</td>\n",
       "      <td>444</td>\n",
       "    </tr>\n",
       "    <tr>\n",
       "      <th>3</th>\n",
       "      <td>2014-07-01</td>\n",
       "      <td>7</td>\n",
       "      <td>17595</td>\n",
       "      <td>Manitowoc School District</td>\n",
       "      <td>WI</td>\n",
       "      <td>Manitowoc</td>\n",
       "      <td>1</td>\n",
       "      <td>4</td>\n",
       "      <td>13</td>\n",
       "      <td>11</td>\n",
       "      <td>60</td>\n",
       "      <td>350</td>\n",
       "    </tr>\n",
       "    <tr>\n",
       "      <th>5</th>\n",
       "      <td>2014-07-01</td>\n",
       "      <td>7</td>\n",
       "      <td>5509</td>\n",
       "      <td>Lincoln County</td>\n",
       "      <td>KY</td>\n",
       "      <td>Lincoln</td>\n",
       "      <td>2</td>\n",
       "      <td>6</td>\n",
       "      <td>11</td>\n",
       "      <td>12</td>\n",
       "      <td>90</td>\n",
       "      <td>270</td>\n",
       "    </tr>\n",
       "    <tr>\n",
       "      <th>6</th>\n",
       "      <td>2014-07-01</td>\n",
       "      <td>7</td>\n",
       "      <td>8699</td>\n",
       "      <td>Billings Elem</td>\n",
       "      <td>MT</td>\n",
       "      <td>Yellowstone</td>\n",
       "      <td>1</td>\n",
       "      <td>3</td>\n",
       "      <td>26</td>\n",
       "      <td>43</td>\n",
       "      <td>135</td>\n",
       "      <td>649</td>\n",
       "    </tr>\n",
       "  </tbody>\n",
       "</table>\n",
       "</div>"
      ],
      "text/plain": [
       "         date  month     id                       name state       county  7d  \\\n",
       "0  2014-07-01      7  11915        Anthony Wayne Local    OH        Lucas   2   \n",
       "1  2014-07-01      7    105            Marshall County    AL     Marshall   0   \n",
       "3  2014-07-01      7  17595  Manitowoc School District    WI    Manitowoc   1   \n",
       "5  2014-07-01      7   5509             Lincoln County    KY      Lincoln   2   \n",
       "6  2014-07-01      7   8699              Billings Elem    MT  Yellowstone   1   \n",
       "\n",
       "   28d  schools  max_7d  registered  nces_teachers  \n",
       "0   15        6      19          72            207  \n",
       "1    7       16      15         125            444  \n",
       "3    4       13      11          60            350  \n",
       "5    6       11      12          90            270  \n",
       "6    3       26      43         135            649  "
      ]
     },
     "execution_count": 9,
     "metadata": {},
     "output_type": "execute_result"
    }
   ],
   "source": [
    "df.head()"
   ]
  },
  {
   "cell_type": "code",
   "execution_count": 11,
   "metadata": {
    "collapsed": false
   },
   "outputs": [
    {
     "name": "stdout",
     "output_type": "stream",
     "text": [
      "2014-07-01 2016-05-07\n"
     ]
    }
   ],
   "source": [
    "print df['date'].min(), df['date'].max()"
   ]
  },
  {
   "cell_type": "code",
   "execution_count": 21,
   "metadata": {
    "collapsed": true
   },
   "outputs": [],
   "source": [
    "# looking at start of school year in 2014 to end of school year in 2016 i-e 3 school years \n",
    "df = df[ df['date'] > '2014-07-31' ]"
   ]
  },
  {
   "cell_type": "code",
   "execution_count": 22,
   "metadata": {
    "collapsed": false
   },
   "outputs": [
    {
     "name": "stdout",
     "output_type": "stream",
     "text": [
      "2014-08-01 2016-05-07\n"
     ]
    }
   ],
   "source": [
    "print df['date'].min(), df['date'].max()"
   ]
  },
  {
   "cell_type": "code",
   "execution_count": 28,
   "metadata": {
    "collapsed": false
   },
   "outputs": [
    {
     "name": "stdout",
     "output_type": "stream",
     "text": [
      "207 11450\n"
     ]
    }
   ],
   "source": [
    "print df['nces_teachers'][ df['id'] == 11915 ].max(), df['nces_teachers'][ df['id'] == 2885 ].max()"
   ]
  },
  {
   "cell_type": "code",
   "execution_count": 29,
   "metadata": {
    "collapsed": true
   },
   "outputs": [],
   "source": [
    "# group by district id\n",
    "# get mean of 7d actives from 7/1/14 to 5/7/16 \n",
    "# get max of max_7d -- max_7d column is absolute max of 7d actives for the account anyway\n",
    "# get max of nces_teachers for physical teacher population at the district\n",
    "\n",
    "df_7d = df.groupby(['id'], as_index=False).agg({'7d':'mean', 'max_7d':'max', 'nces_teachers':'max'})"
   ]
  },
  {
   "cell_type": "code",
   "execution_count": 30,
   "metadata": {
    "collapsed": false
   },
   "outputs": [
    {
     "name": "stdout",
     "output_type": "stream",
     "text": [
      "207 11450\n"
     ]
    }
   ],
   "source": [
    "print df_7d['nces_teachers'][ df_7d['id'] == 11915 ].max(), df_7d['nces_teachers'][ df_7d['id'] == 2885 ].max()"
   ]
  },
  {
   "cell_type": "code",
   "execution_count": 34,
   "metadata": {
    "collapsed": false
   },
   "outputs": [],
   "source": [
    "df_7d['pen_mean_7d'] = df_7d['7d'] / df_7d['nces_teachers']\n",
    "df_7d['pen_max_7d'] = df_7d['max_7d'] / df_7d['nces_teachers']"
   ]
  },
  {
   "cell_type": "code",
   "execution_count": 35,
   "metadata": {
    "collapsed": false
   },
   "outputs": [
    {
     "data": {
      "text/html": [
       "<div>\n",
       "<table border=\"1\" class=\"dataframe\">\n",
       "  <thead>\n",
       "    <tr style=\"text-align: right;\">\n",
       "      <th></th>\n",
       "      <th>id</th>\n",
       "      <th>7d</th>\n",
       "      <th>nces_teachers</th>\n",
       "      <th>max_7d</th>\n",
       "      <th>pen_mean_7d</th>\n",
       "      <th>pen_max_7d</th>\n",
       "    </tr>\n",
       "  </thead>\n",
       "  <tbody>\n",
       "    <tr>\n",
       "      <th>0</th>\n",
       "      <td>6</td>\n",
       "      <td>10.320197</td>\n",
       "      <td>273</td>\n",
       "      <td>99</td>\n",
       "      <td>0.037803</td>\n",
       "      <td>0.362637</td>\n",
       "    </tr>\n",
       "    <tr>\n",
       "      <th>1</th>\n",
       "      <td>9</td>\n",
       "      <td>13.192118</td>\n",
       "      <td>138</td>\n",
       "      <td>45</td>\n",
       "      <td>0.095595</td>\n",
       "      <td>0.326087</td>\n",
       "    </tr>\n",
       "    <tr>\n",
       "      <th>2</th>\n",
       "      <td>11</td>\n",
       "      <td>4.344828</td>\n",
       "      <td>209</td>\n",
       "      <td>32</td>\n",
       "      <td>0.020789</td>\n",
       "      <td>0.153110</td>\n",
       "    </tr>\n",
       "    <tr>\n",
       "      <th>3</th>\n",
       "      <td>13</td>\n",
       "      <td>3.955665</td>\n",
       "      <td>478</td>\n",
       "      <td>15</td>\n",
       "      <td>0.008275</td>\n",
       "      <td>0.031381</td>\n",
       "    </tr>\n",
       "    <tr>\n",
       "      <th>4</th>\n",
       "      <td>14</td>\n",
       "      <td>11.351396</td>\n",
       "      <td>606</td>\n",
       "      <td>95</td>\n",
       "      <td>0.018732</td>\n",
       "      <td>0.156766</td>\n",
       "    </tr>\n",
       "  </tbody>\n",
       "</table>\n",
       "</div>"
      ],
      "text/plain": [
       "   id         7d  nces_teachers  max_7d  pen_mean_7d  pen_max_7d\n",
       "0   6  10.320197            273      99     0.037803    0.362637\n",
       "1   9  13.192118            138      45     0.095595    0.326087\n",
       "2  11   4.344828            209      32     0.020789    0.153110\n",
       "3  13   3.955665            478      15     0.008275    0.031381\n",
       "4  14  11.351396            606      95     0.018732    0.156766"
      ]
     },
     "execution_count": 35,
     "metadata": {},
     "output_type": "execute_result"
    }
   ],
   "source": [
    "df_7d.head()"
   ]
  },
  {
   "cell_type": "code",
   "execution_count": 37,
   "metadata": {
    "collapsed": false
   },
   "outputs": [
    {
     "data": {
      "image/png": "[encoded data removed]",
      "text/plain": [
       "<matplotlib.figure.Figure at 0x118ac64d0>"
      ]
     },
     "metadata": {},
     "output_type": "display_data"
    }
   ],
   "source": [
    "fig, ax = plt.subplots()\n",
    "\n",
    "ax.margins(0.05)\n",
    "\n",
    "ax.plot(df_7d.pen_mean_7d, df_7d.pen_max_7d, marker='o', linestyle='', ms=3)\n",
    "\n",
    "ax.set_xlabel(\"avg 7d\")\n",
    "ax.set_ylabel(\"max 7d\")\n",
    "\n",
    "fig.set_size_inches(18, 10)\n",
    "plt.show()"
   ]
  },
  {
   "cell_type": "code",
   "execution_count": 46,
   "metadata": {
    "collapsed": false
   },
   "outputs": [
    {
     "data": {
      "text/html": [
       "<div>\n",
       "<table border=\"1\" class=\"dataframe\">\n",
       "  <thead>\n",
       "    <tr style=\"text-align: right;\">\n",
       "      <th></th>\n",
       "      <th>id</th>\n",
       "      <th>7d</th>\n",
       "      <th>nces_teachers</th>\n",
       "      <th>max_7d</th>\n",
       "      <th>pen_mean_7d</th>\n",
       "      <th>pen_max_7d</th>\n",
       "    </tr>\n",
       "  </thead>\n",
       "  <tbody>\n",
       "    <tr>\n",
       "      <th>140</th>\n",
       "      <td>822</td>\n",
       "      <td>2.319185</td>\n",
       "      <td>9</td>\n",
       "      <td>17</td>\n",
       "      <td>0.257687</td>\n",
       "      <td>1.888889</td>\n",
       "    </tr>\n",
       "    <tr>\n",
       "      <th>483</th>\n",
       "      <td>2172</td>\n",
       "      <td>68.827586</td>\n",
       "      <td>156</td>\n",
       "      <td>203</td>\n",
       "      <td>0.441202</td>\n",
       "      <td>1.301282</td>\n",
       "    </tr>\n",
       "    <tr>\n",
       "      <th>1323</th>\n",
       "      <td>6903</td>\n",
       "      <td>98.983580</td>\n",
       "      <td>224</td>\n",
       "      <td>281</td>\n",
       "      <td>0.441891</td>\n",
       "      <td>1.254464</td>\n",
       "    </tr>\n",
       "    <tr>\n",
       "      <th>1450</th>\n",
       "      <td>8046</td>\n",
       "      <td>242.513957</td>\n",
       "      <td>517</td>\n",
       "      <td>617</td>\n",
       "      <td>0.469079</td>\n",
       "      <td>1.193424</td>\n",
       "    </tr>\n",
       "    <tr>\n",
       "      <th>2223</th>\n",
       "      <td>14699</td>\n",
       "      <td>121.727422</td>\n",
       "      <td>196</td>\n",
       "      <td>233</td>\n",
       "      <td>0.621058</td>\n",
       "      <td>1.188776</td>\n",
       "    </tr>\n",
       "    <tr>\n",
       "      <th>2219</th>\n",
       "      <td>14693</td>\n",
       "      <td>897.781609</td>\n",
       "      <td>1831</td>\n",
       "      <td>2148</td>\n",
       "      <td>0.490323</td>\n",
       "      <td>1.173129</td>\n",
       "    </tr>\n",
       "    <tr>\n",
       "      <th>2441</th>\n",
       "      <td>15625</td>\n",
       "      <td>515.899836</td>\n",
       "      <td>1941</td>\n",
       "      <td>2270</td>\n",
       "      <td>0.265791</td>\n",
       "      <td>1.169500</td>\n",
       "    </tr>\n",
       "    <tr>\n",
       "      <th>2461</th>\n",
       "      <td>15704</td>\n",
       "      <td>157.901478</td>\n",
       "      <td>382</td>\n",
       "      <td>446</td>\n",
       "      <td>0.413355</td>\n",
       "      <td>1.167539</td>\n",
       "    </tr>\n",
       "    <tr>\n",
       "      <th>1477</th>\n",
       "      <td>8268</td>\n",
       "      <td>110.794745</td>\n",
       "      <td>273</td>\n",
       "      <td>313</td>\n",
       "      <td>0.405842</td>\n",
       "      <td>1.146520</td>\n",
       "    </tr>\n",
       "    <tr>\n",
       "      <th>1054</th>\n",
       "      <td>5494</td>\n",
       "      <td>85.944171</td>\n",
       "      <td>252</td>\n",
       "      <td>288</td>\n",
       "      <td>0.341048</td>\n",
       "      <td>1.142857</td>\n",
       "    </tr>\n",
       "    <tr>\n",
       "      <th>1166</th>\n",
       "      <td>6002</td>\n",
       "      <td>99.068966</td>\n",
       "      <td>646</td>\n",
       "      <td>699</td>\n",
       "      <td>0.153358</td>\n",
       "      <td>1.082043</td>\n",
       "    </tr>\n",
       "    <tr>\n",
       "      <th>1019</th>\n",
       "      <td>5420</td>\n",
       "      <td>33.914614</td>\n",
       "      <td>171</td>\n",
       "      <td>181</td>\n",
       "      <td>0.198331</td>\n",
       "      <td>1.058480</td>\n",
       "    </tr>\n",
       "    <tr>\n",
       "      <th>824</th>\n",
       "      <td>3480</td>\n",
       "      <td>140.208539</td>\n",
       "      <td>290</td>\n",
       "      <td>305</td>\n",
       "      <td>0.483478</td>\n",
       "      <td>1.051724</td>\n",
       "    </tr>\n",
       "    <tr>\n",
       "      <th>592</th>\n",
       "      <td>2665</td>\n",
       "      <td>9.556650</td>\n",
       "      <td>176</td>\n",
       "      <td>185</td>\n",
       "      <td>0.054299</td>\n",
       "      <td>1.051136</td>\n",
       "    </tr>\n",
       "    <tr>\n",
       "      <th>39</th>\n",
       "      <td>83</td>\n",
       "      <td>1106.852217</td>\n",
       "      <td>1691</td>\n",
       "      <td>1750</td>\n",
       "      <td>0.654555</td>\n",
       "      <td>1.034891</td>\n",
       "    </tr>\n",
       "    <tr>\n",
       "      <th>2482</th>\n",
       "      <td>15788</td>\n",
       "      <td>264.118227</td>\n",
       "      <td>449</td>\n",
       "      <td>464</td>\n",
       "      <td>0.588237</td>\n",
       "      <td>1.033408</td>\n",
       "    </tr>\n",
       "    <tr>\n",
       "      <th>388</th>\n",
       "      <td>1868</td>\n",
       "      <td>111.609195</td>\n",
       "      <td>463</td>\n",
       "      <td>447</td>\n",
       "      <td>0.241057</td>\n",
       "      <td>0.965443</td>\n",
       "    </tr>\n",
       "  </tbody>\n",
       "</table>\n",
       "</div>"
      ],
      "text/plain": [
       "         id           7d  nces_teachers  max_7d  pen_mean_7d  pen_max_7d\n",
       "140     822     2.319185              9      17     0.257687    1.888889\n",
       "483    2172    68.827586            156     203     0.441202    1.301282\n",
       "1323   6903    98.983580            224     281     0.441891    1.254464\n",
       "1450   8046   242.513957            517     617     0.469079    1.193424\n",
       "2223  14699   121.727422            196     233     0.621058    1.188776\n",
       "2219  14693   897.781609           1831    2148     0.490323    1.173129\n",
       "2441  15625   515.899836           1941    2270     0.265791    1.169500\n",
       "2461  15704   157.901478            382     446     0.413355    1.167539\n",
       "1477   8268   110.794745            273     313     0.405842    1.146520\n",
       "1054   5494    85.944171            252     288     0.341048    1.142857\n",
       "1166   6002    99.068966            646     699     0.153358    1.082043\n",
       "1019   5420    33.914614            171     181     0.198331    1.058480\n",
       "824    3480   140.208539            290     305     0.483478    1.051724\n",
       "592    2665     9.556650            176     185     0.054299    1.051136\n",
       "39       83  1106.852217           1691    1750     0.654555    1.034891\n",
       "2482  15788   264.118227            449     464     0.588237    1.033408\n",
       "388    1868   111.609195            463     447     0.241057    0.965443"
      ]
     },
     "execution_count": 46,
     "metadata": {},
     "output_type": "execute_result"
    }
   ],
   "source": [
    "# few accounts have percentages points that are higher than 1(probably because of incorrect NCES teacher count)\n",
    "df_7d[ df_7d['pen_max_7d'] >= 0.95 ].sort_values(by='pen_max_7d', ascending=False)"
   ]
  },
  {
   "cell_type": "code",
   "execution_count": 53,
   "metadata": {
    "collapsed": false
   },
   "outputs": [],
   "source": [
    "# capping out at 0.96. Accounts with higher than 1 percentage point are already in high usage cluster\n",
    " \n",
    "def cap_out_max(max_7d):\n",
    "    if max_7d > 0.96:\n",
    "        return 0.96\n",
    "    else:\n",
    "        return max_7d\n",
    "    \n",
    "df_7d['pen_max_7d_adjusted'] = df_7d[ 'pen_max_7d' ].apply(cap_out_max)"
   ]
  },
  {
   "cell_type": "code",
   "execution_count": 54,
   "metadata": {
    "collapsed": false
   },
   "outputs": [
    {
     "data": {
      "text/html": [
       "<div>\n",
       "<table border=\"1\" class=\"dataframe\">\n",
       "  <thead>\n",
       "    <tr style=\"text-align: right;\">\n",
       "      <th></th>\n",
       "      <th>id</th>\n",
       "      <th>7d</th>\n",
       "      <th>nces_teachers</th>\n",
       "      <th>max_7d</th>\n",
       "      <th>pen_mean_7d</th>\n",
       "      <th>pen_max_7d</th>\n",
       "      <th>pen_max_7d_adjusted</th>\n",
       "    </tr>\n",
       "  </thead>\n",
       "  <tbody>\n",
       "    <tr>\n",
       "      <th>140</th>\n",
       "      <td>822</td>\n",
       "      <td>2.319185</td>\n",
       "      <td>9</td>\n",
       "      <td>17</td>\n",
       "      <td>0.257687</td>\n",
       "      <td>1.888889</td>\n",
       "      <td>0.96</td>\n",
       "    </tr>\n",
       "    <tr>\n",
       "      <th>483</th>\n",
       "      <td>2172</td>\n",
       "      <td>68.827586</td>\n",
       "      <td>156</td>\n",
       "      <td>203</td>\n",
       "      <td>0.441202</td>\n",
       "      <td>1.301282</td>\n",
       "      <td>0.96</td>\n",
       "    </tr>\n",
       "    <tr>\n",
       "      <th>1323</th>\n",
       "      <td>6903</td>\n",
       "      <td>98.983580</td>\n",
       "      <td>224</td>\n",
       "      <td>281</td>\n",
       "      <td>0.441891</td>\n",
       "      <td>1.254464</td>\n",
       "      <td>0.96</td>\n",
       "    </tr>\n",
       "    <tr>\n",
       "      <th>1450</th>\n",
       "      <td>8046</td>\n",
       "      <td>242.513957</td>\n",
       "      <td>517</td>\n",
       "      <td>617</td>\n",
       "      <td>0.469079</td>\n",
       "      <td>1.193424</td>\n",
       "      <td>0.96</td>\n",
       "    </tr>\n",
       "    <tr>\n",
       "      <th>2223</th>\n",
       "      <td>14699</td>\n",
       "      <td>121.727422</td>\n",
       "      <td>196</td>\n",
       "      <td>233</td>\n",
       "      <td>0.621058</td>\n",
       "      <td>1.188776</td>\n",
       "      <td>0.96</td>\n",
       "    </tr>\n",
       "    <tr>\n",
       "      <th>2219</th>\n",
       "      <td>14693</td>\n",
       "      <td>897.781609</td>\n",
       "      <td>1831</td>\n",
       "      <td>2148</td>\n",
       "      <td>0.490323</td>\n",
       "      <td>1.173129</td>\n",
       "      <td>0.96</td>\n",
       "    </tr>\n",
       "    <tr>\n",
       "      <th>2441</th>\n",
       "      <td>15625</td>\n",
       "      <td>515.899836</td>\n",
       "      <td>1941</td>\n",
       "      <td>2270</td>\n",
       "      <td>0.265791</td>\n",
       "      <td>1.169500</td>\n",
       "      <td>0.96</td>\n",
       "    </tr>\n",
       "    <tr>\n",
       "      <th>2461</th>\n",
       "      <td>15704</td>\n",
       "      <td>157.901478</td>\n",
       "      <td>382</td>\n",
       "      <td>446</td>\n",
       "      <td>0.413355</td>\n",
       "      <td>1.167539</td>\n",
       "      <td>0.96</td>\n",
       "    </tr>\n",
       "    <tr>\n",
       "      <th>1477</th>\n",
       "      <td>8268</td>\n",
       "      <td>110.794745</td>\n",
       "      <td>273</td>\n",
       "      <td>313</td>\n",
       "      <td>0.405842</td>\n",
       "      <td>1.146520</td>\n",
       "      <td>0.96</td>\n",
       "    </tr>\n",
       "    <tr>\n",
       "      <th>1054</th>\n",
       "      <td>5494</td>\n",
       "      <td>85.944171</td>\n",
       "      <td>252</td>\n",
       "      <td>288</td>\n",
       "      <td>0.341048</td>\n",
       "      <td>1.142857</td>\n",
       "      <td>0.96</td>\n",
       "    </tr>\n",
       "    <tr>\n",
       "      <th>1166</th>\n",
       "      <td>6002</td>\n",
       "      <td>99.068966</td>\n",
       "      <td>646</td>\n",
       "      <td>699</td>\n",
       "      <td>0.153358</td>\n",
       "      <td>1.082043</td>\n",
       "      <td>0.96</td>\n",
       "    </tr>\n",
       "    <tr>\n",
       "      <th>1019</th>\n",
       "      <td>5420</td>\n",
       "      <td>33.914614</td>\n",
       "      <td>171</td>\n",
       "      <td>181</td>\n",
       "      <td>0.198331</td>\n",
       "      <td>1.058480</td>\n",
       "      <td>0.96</td>\n",
       "    </tr>\n",
       "    <tr>\n",
       "      <th>824</th>\n",
       "      <td>3480</td>\n",
       "      <td>140.208539</td>\n",
       "      <td>290</td>\n",
       "      <td>305</td>\n",
       "      <td>0.483478</td>\n",
       "      <td>1.051724</td>\n",
       "      <td>0.96</td>\n",
       "    </tr>\n",
       "    <tr>\n",
       "      <th>592</th>\n",
       "      <td>2665</td>\n",
       "      <td>9.556650</td>\n",
       "      <td>176</td>\n",
       "      <td>185</td>\n",
       "      <td>0.054299</td>\n",
       "      <td>1.051136</td>\n",
       "      <td>0.96</td>\n",
       "    </tr>\n",
       "    <tr>\n",
       "      <th>39</th>\n",
       "      <td>83</td>\n",
       "      <td>1106.852217</td>\n",
       "      <td>1691</td>\n",
       "      <td>1750</td>\n",
       "      <td>0.654555</td>\n",
       "      <td>1.034891</td>\n",
       "      <td>0.96</td>\n",
       "    </tr>\n",
       "    <tr>\n",
       "      <th>2482</th>\n",
       "      <td>15788</td>\n",
       "      <td>264.118227</td>\n",
       "      <td>449</td>\n",
       "      <td>464</td>\n",
       "      <td>0.588237</td>\n",
       "      <td>1.033408</td>\n",
       "      <td>0.96</td>\n",
       "    </tr>\n",
       "    <tr>\n",
       "      <th>388</th>\n",
       "      <td>1868</td>\n",
       "      <td>111.609195</td>\n",
       "      <td>463</td>\n",
       "      <td>447</td>\n",
       "      <td>0.241057</td>\n",
       "      <td>0.965443</td>\n",
       "      <td>0.96</td>\n",
       "    </tr>\n",
       "  </tbody>\n",
       "</table>\n",
       "</div>"
      ],
      "text/plain": [
       "         id           7d  nces_teachers  max_7d  pen_mean_7d  pen_max_7d  \\\n",
       "140     822     2.319185              9      17     0.257687    1.888889   \n",
       "483    2172    68.827586            156     203     0.441202    1.301282   \n",
       "1323   6903    98.983580            224     281     0.441891    1.254464   \n",
       "1450   8046   242.513957            517     617     0.469079    1.193424   \n",
       "2223  14699   121.727422            196     233     0.621058    1.188776   \n",
       "2219  14693   897.781609           1831    2148     0.490323    1.173129   \n",
       "2441  15625   515.899836           1941    2270     0.265791    1.169500   \n",
       "2461  15704   157.901478            382     446     0.413355    1.167539   \n",
       "1477   8268   110.794745            273     313     0.405842    1.146520   \n",
       "1054   5494    85.944171            252     288     0.341048    1.142857   \n",
       "1166   6002    99.068966            646     699     0.153358    1.082043   \n",
       "1019   5420    33.914614            171     181     0.198331    1.058480   \n",
       "824    3480   140.208539            290     305     0.483478    1.051724   \n",
       "592    2665     9.556650            176     185     0.054299    1.051136   \n",
       "39       83  1106.852217           1691    1750     0.654555    1.034891   \n",
       "2482  15788   264.118227            449     464     0.588237    1.033408   \n",
       "388    1868   111.609195            463     447     0.241057    0.965443   \n",
       "\n",
       "      pen_max_7d_adjusted  \n",
       "140                  0.96  \n",
       "483                  0.96  \n",
       "1323                 0.96  \n",
       "1450                 0.96  \n",
       "2223                 0.96  \n",
       "2219                 0.96  \n",
       "2441                 0.96  \n",
       "2461                 0.96  \n",
       "1477                 0.96  \n",
       "1054                 0.96  \n",
       "1166                 0.96  \n",
       "1019                 0.96  \n",
       "824                  0.96  \n",
       "592                  0.96  \n",
       "39                   0.96  \n",
       "2482                 0.96  \n",
       "388                  0.96  "
      ]
     },
     "execution_count": 54,
     "metadata": {},
     "output_type": "execute_result"
    }
   ],
   "source": [
    "df_7d[ df_7d['pen_max_7d'] >= 0.95 ].sort_values(by='pen_max_7d', ascending=False)"
   ]
  },
  {
   "cell_type": "code",
   "execution_count": 56,
   "metadata": {
    "collapsed": false
   },
   "outputs": [
    {
     "data": {
      "image/png": "[encoded data removed]",
      "text/plain": [
       "<matplotlib.figure.Figure at 0x11a8493d0>"
      ]
     },
     "metadata": {},
     "output_type": "display_data"
    }
   ],
   "source": [
    "# plotting adjusted max 7d penetration\n",
    "\n",
    "fig, ax = plt.subplots()\n",
    "\n",
    "ax.margins(0.05)\n",
    "\n",
    "ax.plot(df_7d.pen_mean_7d, df_7d.pen_max_7d_adjusted, marker='o', linestyle='', ms=3)\n",
    "\n",
    "ax.set_xlabel(\"avg 7d\")\n",
    "ax.set_ylabel(\"max 7d\")\n",
    "\n",
    "fig.set_size_inches(18, 10)\n",
    "plt.show()"
   ]
  },
  {
   "cell_type": "code",
   "execution_count": 58,
   "metadata": {
    "collapsed": false
   },
   "outputs": [],
   "source": [
    "# preparing data to run k means clustering\n",
    "\n",
    "cluster_df = df_7d[['pen_mean_7d','pen_max_7d_adjusted']]\n",
    "cluster_df = cluster_df.dropna()"
   ]
  },
  {
   "cell_type": "code",
   "execution_count": 59,
   "metadata": {
    "collapsed": false
   },
   "outputs": [
    {
     "data": {
      "text/plain": [
       "pen_mean_7d            0.654555\n",
       "pen_max_7d_adjusted    0.960000\n",
       "dtype: float64"
      ]
     },
     "execution_count": 59,
     "metadata": {},
     "output_type": "execute_result"
    }
   ],
   "source": [
    "cluster_df.max()"
   ]
  },
  {
   "cell_type": "code",
   "execution_count": 60,
   "metadata": {
    "collapsed": false
   },
   "outputs": [
    {
     "data": {
      "text/html": [
       "<div>\n",
       "<table border=\"1\" class=\"dataframe\">\n",
       "  <thead>\n",
       "    <tr style=\"text-align: right;\">\n",
       "      <th></th>\n",
       "      <th>pen_mean_7d</th>\n",
       "      <th>pen_max_7d</th>\n",
       "    </tr>\n",
       "  </thead>\n",
       "  <tbody>\n",
       "    <tr>\n",
       "      <th>0</th>\n",
       "      <td>0.178837</td>\n",
       "      <td>1.806816</td>\n",
       "    </tr>\n",
       "    <tr>\n",
       "      <th>1</th>\n",
       "      <td>1.285421</td>\n",
       "      <td>1.542242</td>\n",
       "    </tr>\n",
       "    <tr>\n",
       "      <th>2</th>\n",
       "      <td>-0.146947</td>\n",
       "      <td>0.290132</td>\n",
       "    </tr>\n",
       "    <tr>\n",
       "      <th>3</th>\n",
       "      <td>-0.386545</td>\n",
       "      <td>-0.591017</td>\n",
       "    </tr>\n",
       "    <tr>\n",
       "      <th>4</th>\n",
       "      <td>-0.186333</td>\n",
       "      <td>0.316594</td>\n",
       "    </tr>\n",
       "  </tbody>\n",
       "</table>\n",
       "</div>"
      ],
      "text/plain": [
       "   pen_mean_7d  pen_max_7d\n",
       "0     0.178837    1.806816\n",
       "1     1.285421    1.542242\n",
       "2    -0.146947    0.290132\n",
       "3    -0.386545   -0.591017\n",
       "4    -0.186333    0.316594"
      ]
     },
     "execution_count": 60,
     "metadata": {},
     "output_type": "execute_result"
    }
   ],
   "source": [
    "# scaling\n",
    "dfscale = pd.DataFrame(skpp.scale(cluster_df)).rename(columns={0:'pen_mean_7d', 1:'pen_max_7d'})\n",
    "dfscale.head()"
   ]
  },
  {
   "cell_type": "code",
   "execution_count": 61,
   "metadata": {
    "collapsed": false
   },
   "outputs": [
    {
     "data": {
      "text/html": [
       "<div>\n",
       "<table border=\"1\" class=\"dataframe\">\n",
       "  <thead>\n",
       "    <tr style=\"text-align: right;\">\n",
       "      <th></th>\n",
       "      <th>pen_mean_7d</th>\n",
       "      <th>pen_max_7d</th>\n",
       "      <th>cluster</th>\n",
       "    </tr>\n",
       "  </thead>\n",
       "  <tbody>\n",
       "    <tr>\n",
       "      <th>0</th>\n",
       "      <td>0.178837</td>\n",
       "      <td>1.806816</td>\n",
       "      <td>0</td>\n",
       "    </tr>\n",
       "    <tr>\n",
       "      <th>1</th>\n",
       "      <td>1.285421</td>\n",
       "      <td>1.542242</td>\n",
       "      <td>0</td>\n",
       "    </tr>\n",
       "    <tr>\n",
       "      <th>2</th>\n",
       "      <td>-0.146947</td>\n",
       "      <td>0.290132</td>\n",
       "      <td>2</td>\n",
       "    </tr>\n",
       "    <tr>\n",
       "      <th>3</th>\n",
       "      <td>-0.386545</td>\n",
       "      <td>-0.591017</td>\n",
       "      <td>2</td>\n",
       "    </tr>\n",
       "    <tr>\n",
       "      <th>4</th>\n",
       "      <td>-0.186333</td>\n",
       "      <td>0.316594</td>\n",
       "      <td>2</td>\n",
       "    </tr>\n",
       "  </tbody>\n",
       "</table>\n",
       "</div>"
      ],
      "text/plain": [
       "   pen_mean_7d  pen_max_7d  cluster\n",
       "0     0.178837    1.806816        0\n",
       "1     1.285421    1.542242        0\n",
       "2    -0.146947    0.290132        2\n",
       "3    -0.386545   -0.591017        2\n",
       "4    -0.186333    0.316594        2"
      ]
     },
     "execution_count": 61,
     "metadata": {},
     "output_type": "execute_result"
    }
   ],
   "source": [
    "#kmeans\n",
    "\n",
    "km = KMeans(init='k-means++', n_clusters=3)\n",
    "km.fit(dfscale)\n",
    "\n",
    "clusters = km.predict(dfscale)\n",
    "\n",
    "dfscale['cluster'] = clusters\n",
    "dfscale.head()\n"
   ]
  },
  {
   "cell_type": "code",
   "execution_count": 71,
   "metadata": {
    "collapsed": false
   },
   "outputs": [
    {
     "data": {
      "image/png": "[encoded data removed]",
      "text/plain": [
       "<matplotlib.figure.Figure at 0x1187afe50>"
      ]
     },
     "metadata": {},
     "output_type": "display_data"
    }
   ],
   "source": [
    "#group by clusters and plot\n",
    "\n",
    "groups = dfscale.groupby('cluster')\n",
    "\n",
    "fig, ax = plt.subplots()\n",
    "ax.margins(0.05)\n",
    "for name, group in groups:\n",
    "    ax.plot(group.pen_mean_7d, group.pen_max_7d, marker='o', linestyle='', ms=5, label=name)\n",
    "\n",
    "ax.set_xlabel(\"avg 7d pen\")\n",
    "ax.set_ylabel(\"max 7d pen\")\n",
    "\n",
    "fig.set_size_inches(18, 10)\n",
    "plt.show()"
   ]
  },
  {
   "cell_type": "code",
   "execution_count": 69,
   "metadata": {
    "collapsed": false
   },
   "outputs": [
    {
     "data": {
      "text/html": [
       "<div>\n",
       "<table border=\"1\" class=\"dataframe\">\n",
       "  <thead>\n",
       "    <tr style=\"text-align: right;\">\n",
       "      <th></th>\n",
       "      <th></th>\n",
       "      <th>pen_max_7d</th>\n",
       "      <th>pen_mean_7d</th>\n",
       "    </tr>\n",
       "    <tr>\n",
       "      <th>cluster</th>\n",
       "      <th></th>\n",
       "      <th></th>\n",
       "      <th></th>\n",
       "    </tr>\n",
       "  </thead>\n",
       "  <tbody>\n",
       "    <tr>\n",
       "      <th rowspan=\"8\" valign=\"top\">0</th>\n",
       "      <th>count</th>\n",
       "      <td>435.000000</td>\n",
       "      <td>435.000000</td>\n",
       "    </tr>\n",
       "    <tr>\n",
       "      <th>mean</th>\n",
       "      <td>1.326638</td>\n",
       "      <td>0.876123</td>\n",
       "    </tr>\n",
       "    <tr>\n",
       "      <th>std</th>\n",
       "      <td>0.908568</td>\n",
       "      <td>0.852652</td>\n",
       "    </tr>\n",
       "    <tr>\n",
       "      <th>min</th>\n",
       "      <td>0.023240</td>\n",
       "      <td>-0.464290</td>\n",
       "    </tr>\n",
       "    <tr>\n",
       "      <th>25%</th>\n",
       "      <td>0.707164</td>\n",
       "      <td>0.300870</td>\n",
       "    </tr>\n",
       "    <tr>\n",
       "      <th>50%</th>\n",
       "      <td>1.084936</td>\n",
       "      <td>0.665134</td>\n",
       "    </tr>\n",
       "    <tr>\n",
       "      <th>75%</th>\n",
       "      <td>1.667536</td>\n",
       "      <td>1.292609</td>\n",
       "    </tr>\n",
       "    <tr>\n",
       "      <th>max</th>\n",
       "      <td>6.130883</td>\n",
       "      <td>3.892265</td>\n",
       "    </tr>\n",
       "    <tr>\n",
       "      <th rowspan=\"8\" valign=\"top\">1</th>\n",
       "      <th>count</th>\n",
       "      <td>48.000000</td>\n",
       "      <td>48.000000</td>\n",
       "    </tr>\n",
       "    <tr>\n",
       "      <th>mean</th>\n",
       "      <td>4.814293</td>\n",
       "      <td>5.809030</td>\n",
       "    </tr>\n",
       "    <tr>\n",
       "      <th>std</th>\n",
       "      <td>1.157497</td>\n",
       "      <td>2.351892</td>\n",
       "    </tr>\n",
       "    <tr>\n",
       "      <th>min</th>\n",
       "      <td>2.456434</td>\n",
       "      <td>2.164667</td>\n",
       "    </tr>\n",
       "    <tr>\n",
       "      <th>25%</th>\n",
       "      <td>4.150699</td>\n",
       "      <td>4.192254</td>\n",
       "    </tr>\n",
       "    <tr>\n",
       "      <th>50%</th>\n",
       "      <td>4.701617</td>\n",
       "      <td>5.226350</td>\n",
       "    </tr>\n",
       "    <tr>\n",
       "      <th>75%</th>\n",
       "      <td>6.130883</td>\n",
       "      <td>7.410218</td>\n",
       "    </tr>\n",
       "    <tr>\n",
       "      <th>max</th>\n",
       "      <td>6.130883</td>\n",
       "      <td>11.988196</td>\n",
       "    </tr>\n",
       "    <tr>\n",
       "      <th rowspan=\"8\" valign=\"top\">2</th>\n",
       "      <th>count</th>\n",
       "      <td>2354.000000</td>\n",
       "      <td>2354.000000</td>\n",
       "    </tr>\n",
       "    <tr>\n",
       "      <th>mean</th>\n",
       "      <td>-0.343319</td>\n",
       "      <td>-0.280351</td>\n",
       "    </tr>\n",
       "    <tr>\n",
       "      <th>std</th>\n",
       "      <td>0.332539</td>\n",
       "      <td>0.228475</td>\n",
       "    </tr>\n",
       "    <tr>\n",
       "      <th>min</th>\n",
       "      <td>-0.810421</td>\n",
       "      <td>-0.545001</td>\n",
       "    </tr>\n",
       "    <tr>\n",
       "      <th>25%</th>\n",
       "      <td>-0.602092</td>\n",
       "      <td>-0.451402</td>\n",
       "    </tr>\n",
       "    <tr>\n",
       "      <th>50%</th>\n",
       "      <td>-0.427423</td>\n",
       "      <td>-0.346245</td>\n",
       "    </tr>\n",
       "    <tr>\n",
       "      <th>75%</th>\n",
       "      <td>-0.144821</td>\n",
       "      <td>-0.177369</td>\n",
       "    </tr>\n",
       "    <tr>\n",
       "      <th>max</th>\n",
       "      <td>0.974877</td>\n",
       "      <td>0.775779</td>\n",
       "    </tr>\n",
       "  </tbody>\n",
       "</table>\n",
       "</div>"
      ],
      "text/plain": [
       "                pen_max_7d  pen_mean_7d\n",
       "cluster                                \n",
       "0       count   435.000000   435.000000\n",
       "        mean      1.326638     0.876123\n",
       "        std       0.908568     0.852652\n",
       "        min       0.023240    -0.464290\n",
       "        25%       0.707164     0.300870\n",
       "        50%       1.084936     0.665134\n",
       "        75%       1.667536     1.292609\n",
       "        max       6.130883     3.892265\n",
       "1       count    48.000000    48.000000\n",
       "        mean      4.814293     5.809030\n",
       "        std       1.157497     2.351892\n",
       "        min       2.456434     2.164667\n",
       "        25%       4.150699     4.192254\n",
       "        50%       4.701617     5.226350\n",
       "        75%       6.130883     7.410218\n",
       "        max       6.130883    11.988196\n",
       "2       count  2354.000000  2354.000000\n",
       "        mean     -0.343319    -0.280351\n",
       "        std       0.332539     0.228475\n",
       "        min      -0.810421    -0.545001\n",
       "        25%      -0.602092    -0.451402\n",
       "        50%      -0.427423    -0.346245\n",
       "        75%      -0.144821    -0.177369\n",
       "        max       0.974877     0.775779"
      ]
     },
     "execution_count": 69,
     "metadata": {},
     "output_type": "execute_result"
    }
   ],
   "source": [
    "dfscale.groupby('cluster').describe()"
   ]
  },
  {
   "cell_type": "code",
   "execution_count": null,
   "metadata": {
    "collapsed": true
   },
   "outputs": [],
   "source": []
  }
 ],
 "metadata": {
  "kernelspec": {
   "display_name": "Python 2",
   "language": "python",
   "name": "python2"
  },
  "language_info": {
   "codemirror_mode": {
    "name": "ipython",
    "version": 2
   },
   "file_extension": ".py",
   "mimetype": "text/x-python",
   "name": "python",
   "nbconvert_exporter": "python",
   "pygments_lexer": "ipython2",
   "version": "2.7.11"
  }
 },
 "nbformat": 4,
 "nbformat_minor": 0
}
