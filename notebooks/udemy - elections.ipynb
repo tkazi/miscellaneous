{
 "cells": [
  {
   "cell_type": "code",
   "execution_count": 5,
   "metadata": {
    "collapsed": true
   },
   "outputs": [],
   "source": [
    "import pandas as pd\n",
    "from pandas import Series, DataFrame\n",
    "import numpy as np\n",
    "\n",
    "import requests\n",
    "from StringIO import StringIO\n",
    "from __future__ import division\n",
    "\n",
    "import matplotlib.pyplot as plt\n",
    "import seaborn as sns\n",
    "sns.set_style('whitegrid')\n",
    "%matplotlib inline"
   ]
  },
  {
   "cell_type": "code",
   "execution_count": 7,
   "metadata": {
    "collapsed": true
   },
   "outputs": [],
   "source": [
    "url = \"http://elections.huffingtonpost.com/pollster/2012-general-election-romney-vs-obama.csv\"\n",
    "\n",
    "source = requests.get(url).text\n",
    "\n",
    "poll_data = StringIO(source)"
   ]
  },
  {
   "cell_type": "code",
   "execution_count": 8,
   "metadata": {
    "collapsed": true
   },
   "outputs": [],
   "source": [
    "poll_df = pd.read_csv(poll_data)"
   ]
  },
  {
   "cell_type": "code",
   "execution_count": 10,
   "metadata": {
    "collapsed": false
   },
   "outputs": [
    {
     "data": {
      "text/plain": [
       "<bound method DataFrame.info of                                 Pollster  Start Date    End Date  \\\n",
       "0              Politico/GWU/Battleground  2012-11-04  2012-11-05   \n",
       "1                       Gravis Marketing  2012-11-03  2012-11-05   \n",
       "2                               IBD/TIPP  2012-11-03  2012-11-05   \n",
       "3                   JZ Analytics/Newsmax  2012-11-03  2012-11-05   \n",
       "4                              Rasmussen  2012-11-03  2012-11-05   \n",
       "5                             UPI/CVOTER  2012-11-03  2012-11-05   \n",
       "6                       YouGov/Economist  2012-11-03  2012-11-05   \n",
       "7                    Ipsos/Reuters (Web)  2012-11-01  2012-11-05   \n",
       "8                                    ARG  2012-11-02  2012-11-04   \n",
       "9                                    CNN  2012-11-02  2012-11-04   \n",
       "10   PPP (D-Americans United for Change)  2012-11-02  2012-11-04   \n",
       "11                              ABC/Post  2012-11-01  2012-11-04   \n",
       "12                 DailyKos/SEIU/PPP (D)  2012-11-01  2012-11-04   \n",
       "13                   Democracy Corps (D)  2012-11-01  2012-11-04   \n",
       "14                                Gallup  2012-11-01  2012-11-04   \n",
       "15                              Monmouth  2012-11-01  2012-11-04   \n",
       "16                            Angus-Reid  2012-11-01  2012-11-03   \n",
       "17                               NBC/WSJ  2012-11-01  2012-11-03   \n",
       "18                                   Pew  2012-10-31  2012-11-03   \n",
       "19                                YouGov  2012-10-31  2012-11-03   \n",
       "20                            UPI/CVOTER  2012-11-02  2012-11-02   \n",
       "21                             Rasmussen  2012-10-31  2012-11-02   \n",
       "22                     Purple Strategies  2012-10-31  2012-11-01   \n",
       "23                  JZ Analytics/Newsmax  2012-10-30  2012-11-01   \n",
       "24   PPP (D-Americans United for Change)  2012-10-30  2012-11-01   \n",
       "25             Politico/GWU/Battleground  2012-10-29  2012-11-01   \n",
       "26                            UPI/CVOTER  2012-10-26  2012-11-01   \n",
       "27         Washington Times/JZ Analytics  2012-10-29  2012-10-31   \n",
       "28                              ABC/Post  2012-10-28  2012-10-31   \n",
       "29                   Ipsos/Reuters (Web)  2012-10-27  2012-10-31   \n",
       "..                                   ...         ...         ...   \n",
       "560                                  CNN  2010-10-27  2010-10-30   \n",
       "561                                  FOX  2010-09-28  2010-09-29   \n",
       "562                              PPP (D)  2010-09-10  2010-09-13   \n",
       "563       Politico / Penn Schoen Berland  2010-08-06  2010-08-11   \n",
       "564                              PPP (D)  2010-08-06  2010-08-09   \n",
       "565                     Zogby (Internet)  2010-07-16  2010-07-19   \n",
       "566       Politico / Penn Schoen Berland  2010-07-09  2010-07-14   \n",
       "567                              PPP (D)  2010-07-09  2010-07-12   \n",
       "568                              PPP (D)  2010-06-04  2010-06-07   \n",
       "569                              PPP (D)  2010-05-07  2010-05-09   \n",
       "570                                  CNN  2010-04-09  2010-04-11   \n",
       "571                              PPP (D)  2010-04-09  2010-04-11   \n",
       "572                               Clarus  2010-03-17  2010-03-20   \n",
       "573                              PPP (D)  2010-03-12  2010-03-14   \n",
       "574                              PPP (D)  2010-02-13  2010-02-15   \n",
       "575                              PPP (D)  2010-01-18  2010-01-19   \n",
       "576                                  FOX  2010-01-12  2010-01-13   \n",
       "577                              PPP (D)  2009-12-04  2009-12-07   \n",
       "578                            Rasmussen  2009-11-24  2009-11-24   \n",
       "579                              PPP (D)  2009-11-13  2009-11-15   \n",
       "580                              PPP (D)  2009-10-16  2009-10-19   \n",
       "581                              PPP (D)  2009-09-21  2009-09-21   \n",
       "582                               Clarus  2009-08-14  2009-08-18   \n",
       "583                              PPP (D)  2009-08-14  2009-08-17   \n",
       "584                            Rasmussen  2009-07-18  2009-07-19   \n",
       "585                              PPP (D)  2009-07-15  2009-07-16   \n",
       "586                              PPP (D)  2009-06-12  2009-06-16   \n",
       "587                              PPP (D)  2009-05-14  2009-05-18   \n",
       "588                              PPP (D)  2009-04-17  2009-04-19   \n",
       "589                              PPP (D)  2009-03-13  2009-03-15   \n",
       "\n",
       "     Entry Date/Time (ET)  Number of Observations         Population  \\\n",
       "0    2012-11-06T08:40:26Z                  1000.0      Likely Voters   \n",
       "1    2012-11-06T09:22:02Z                   872.0      Likely Voters   \n",
       "2    2012-11-06T08:51:48Z                   712.0      Likely Voters   \n",
       "3    2012-11-06T07:38:41Z                  1041.0      Likely Voters   \n",
       "4    2012-11-06T08:47:50Z                  1500.0      Likely Voters   \n",
       "5    2012-11-05T18:30:15Z                  3000.0      Likely Voters   \n",
       "6    2012-11-26T15:31:23Z                   740.0      Likely Voters   \n",
       "7    2012-11-05T16:12:48Z                  4725.0      Likely Voters   \n",
       "8    2012-11-05T13:06:54Z                  1200.0      Likely Voters   \n",
       "9    2012-11-04T20:16:09Z                   693.0      Likely Voters   \n",
       "10   2012-11-04T22:32:19Z                  1200.0      Likely Voters   \n",
       "11   2012-11-05T16:56:22Z                  2345.0      Likely Voters   \n",
       "12   2012-11-05T13:31:31Z                  1300.0      Likely Voters   \n",
       "13   2012-11-05T09:41:50Z                  1080.0      Likely Voters   \n",
       "14   2012-11-05T13:48:29Z                  2551.0      Likely Voters   \n",
       "15   2012-11-05T12:52:03Z                  1417.0      Likely Voters   \n",
       "16   2012-11-06T08:47:46Z                  1019.0      Likely Voters   \n",
       "17   2012-11-04T09:12:21Z                  1475.0      Likely Voters   \n",
       "18   2012-11-04T15:46:59Z                  2709.0      Likely Voters   \n",
       "19   2012-11-04T16:24:50Z                 36472.0      Likely Voters   \n",
       "20   2012-11-03T16:40:44Z                  1074.0      Likely Voters   \n",
       "21   2012-11-03T10:54:09Z                  1500.0      Likely Voters   \n",
       "22   2012-11-02T12:31:41Z                  1000.0      Likely Voters   \n",
       "23   2012-11-02T22:57:27Z                  1030.0      Likely Voters   \n",
       "24   2012-11-02T05:46:11Z                  1200.0      Likely Voters   \n",
       "25   2012-11-04T08:42:53Z                  1000.0      Likely Voters   \n",
       "26   2012-11-02T11:49:24Z                  1094.0      Likely Voters   \n",
       "27   2012-11-04T06:37:30Z                   800.0      Likely Voters   \n",
       "28   2012-11-01T17:05:21Z                  1293.0      Likely Voters   \n",
       "29   2012-10-31T14:56:53Z                  4085.0      Likely Voters   \n",
       "..                    ...                     ...                ...   \n",
       "560  2010-11-08T12:06:30Z                   921.0  Registered Voters   \n",
       "561  2010-11-08T12:04:22Z                   900.0  Registered Voters   \n",
       "562  2010-09-17T15:16:02Z                   590.0  Registered Voters   \n",
       "563  2010-11-08T12:00:01Z                  1668.0             Adults   \n",
       "564  2010-08-13T03:54:21Z                   606.0  Registered Voters   \n",
       "565  2010-11-08T11:54:08Z                  8487.0      Likely Voters   \n",
       "566  2010-11-08T11:50:54Z                  1011.0             Adults   \n",
       "567  2010-07-15T08:49:24Z                   667.0  Registered Voters   \n",
       "568  2010-06-10T12:17:39Z                   650.0  Registered Voters   \n",
       "569  2010-05-12T15:17:23Z                   707.0  Registered Voters   \n",
       "570  2010-11-08T11:40:42Z                   907.0  Registered Voters   \n",
       "571  2010-04-15T09:22:40Z                   622.0  Registered Voters   \n",
       "572  2010-11-08T11:36:08Z                  1050.0  Registered Voters   \n",
       "573  2010-03-18T09:19:18Z                  1403.0  Registered Voters   \n",
       "574  2010-02-18T10:39:08Z                   743.0  Registered Voters   \n",
       "575  2010-01-22T10:41:32Z                  1151.0  Registered Voters   \n",
       "576  2010-11-08T11:26:58Z                   900.0  Registered Voters   \n",
       "577  2009-12-10T08:10:07Z                  1253.0  Registered Voters   \n",
       "578  2009-11-25T08:50:13Z                   800.0      Likely Voters   \n",
       "579  2009-11-20T08:45:21Z                  1066.0  Registered Voters   \n",
       "580  2009-10-22T08:16:05Z                   766.0  Registered Voters   \n",
       "581  2009-09-24T10:45:45Z                   621.0  Registered Voters   \n",
       "582  2010-11-08T11:11:21Z                  1003.0  Registered Voters   \n",
       "583  2009-08-20T08:31:37Z                   909.0  Registered Voters   \n",
       "584  2010-11-08T11:05:08Z                  1000.0      Likely Voters   \n",
       "585  2010-11-08T11:02:37Z                   577.0  Registered Voters   \n",
       "586  2010-11-08T10:58:00Z                   638.0  Registered Voters   \n",
       "587  2010-11-08T10:49:08Z                  1000.0  Registered Voters   \n",
       "588  2010-11-08T10:45:18Z                   686.0  Registered Voters   \n",
       "589  2010-11-08T10:36:31Z                  1403.0  Registered Voters   \n",
       "\n",
       "                Mode  Obama  Romney  Other  Undecided  \\\n",
       "0         Live Phone     47      47    NaN        6.0   \n",
       "1    Automated Phone     48      48    NaN        4.0   \n",
       "2         Live Phone     50      49    1.0        NaN   \n",
       "3           Internet     47      47    NaN        6.0   \n",
       "4    Automated Phone     48      49    NaN        NaN   \n",
       "5         Live Phone     49      48    NaN        NaN   \n",
       "6           Internet     49      47    NaN        3.0   \n",
       "7           Internet     48      46    2.0        4.0   \n",
       "8         Live Phone     49      49    1.0        1.0   \n",
       "9         Live Phone     49      49    NaN        2.0   \n",
       "10   Automated Phone     50      48    NaN        3.0   \n",
       "11        Live Phone     50      47    1.0        1.0   \n",
       "12   Automated Phone     50      48    NaN        2.0   \n",
       "13        Live Phone     49      45    1.0        NaN   \n",
       "14        Live Phone     48      49    NaN        NaN   \n",
       "15    IVR/Live Phone     48      48    2.0        2.0   \n",
       "16          Internet     51      48    1.0        NaN   \n",
       "17        Live Phone     48      47    2.0        3.0   \n",
       "18        Live Phone     48      45    3.0        NaN   \n",
       "19          Internet     49      47    NaN        3.0   \n",
       "20        Live Phone     49      48    NaN        NaN   \n",
       "21   Automated Phone     48      48    1.0        2.0   \n",
       "22        IVR/Online     47      46    NaN        7.0   \n",
       "23          Internet     48      46    NaN        6.0   \n",
       "24   Automated Phone     49      48    NaN        3.0   \n",
       "25        Live Phone     48      48    NaN        3.0   \n",
       "26        Live Phone     48      48    NaN        NaN   \n",
       "27        Live Phone     49      49    NaN        NaN   \n",
       "28        Live Phone     49      48    NaN        NaN   \n",
       "29          Internet     47      46    3.0        4.0   \n",
       "..               ...    ...     ...    ...        ...   \n",
       "560       Live Phone     45      50    3.0        1.0   \n",
       "561       Live Phone     41      40    7.0       11.0   \n",
       "562  Automated Phone     46      43    NaN       11.0   \n",
       "563         Internet     42      33    NaN       24.0   \n",
       "564  Automated Phone     45      42    NaN       13.0   \n",
       "565         Internet     45      43    NaN        NaN   \n",
       "566         Internet     39      35    NaN       26.0   \n",
       "567  Automated Phone     43      46    NaN       11.0   \n",
       "568  Automated Phone     45      42    NaN       13.0   \n",
       "569  Automated Phone     46      44    NaN       11.0   \n",
       "570       Live Phone     53      45    1.0        NaN   \n",
       "571  Automated Phone     44      45    NaN       10.0   \n",
       "572       Live Phone     45      41    NaN       14.0   \n",
       "573  Automated Phone     44      44    NaN       12.0   \n",
       "574  Automated Phone     45      43    NaN       12.0   \n",
       "575  Automated Phone     44      42    NaN       15.0   \n",
       "576       Live Phone     47      35    5.0       10.0   \n",
       "577  Automated Phone     47      42    NaN       12.0   \n",
       "578  Automated Phone     44      44    6.0        5.0   \n",
       "579  Automated Phone     48      43    NaN        9.0   \n",
       "580  Automated Phone     48      40    NaN       12.0   \n",
       "581  Automated Phone     48      39    NaN       13.0   \n",
       "582       Live Phone     47      38    NaN       15.0   \n",
       "583  Automated Phone     47      40    NaN       12.0   \n",
       "584  Automated Phone     45      45    7.0        3.0   \n",
       "585  Automated Phone     49      40    NaN       11.0   \n",
       "586  Automated Phone     48      40    NaN       12.0   \n",
       "587  Automated Phone     53      35    NaN       12.0   \n",
       "588  Automated Phone     50      39    NaN       11.0   \n",
       "589  Automated Phone     44      44    NaN       12.0   \n",
       "\n",
       "                                          Pollster URL  \\\n",
       "0    http://elections.huffingtonpost.com/pollster/p...   \n",
       "1    http://elections.huffingtonpost.com/pollster/p...   \n",
       "2    http://elections.huffingtonpost.com/pollster/p...   \n",
       "3    http://elections.huffingtonpost.com/pollster/p...   \n",
       "4    http://elections.huffingtonpost.com/pollster/p...   \n",
       "5    http://elections.huffingtonpost.com/pollster/p...   \n",
       "6    http://elections.huffingtonpost.com/pollster/p...   \n",
       "7    http://elections.huffingtonpost.com/pollster/p...   \n",
       "8    http://elections.huffingtonpost.com/pollster/p...   \n",
       "9    http://elections.huffingtonpost.com/pollster/p...   \n",
       "10   http://elections.huffingtonpost.com/pollster/p...   \n",
       "11   http://elections.huffingtonpost.com/pollster/p...   \n",
       "12   http://elections.huffingtonpost.com/pollster/p...   \n",
       "13   http://elections.huffingtonpost.com/pollster/p...   \n",
       "14   http://elections.huffingtonpost.com/pollster/p...   \n",
       "15   http://elections.huffingtonpost.com/pollster/p...   \n",
       "16   http://elections.huffingtonpost.com/pollster/p...   \n",
       "17   http://elections.huffingtonpost.com/pollster/p...   \n",
       "18   http://elections.huffingtonpost.com/pollster/p...   \n",
       "19   http://elections.huffingtonpost.com/pollster/p...   \n",
       "20   http://elections.huffingtonpost.com/pollster/p...   \n",
       "21   http://elections.huffingtonpost.com/pollster/p...   \n",
       "22   http://elections.huffingtonpost.com/pollster/p...   \n",
       "23   http://elections.huffingtonpost.com/pollster/p...   \n",
       "24   http://elections.huffingtonpost.com/pollster/p...   \n",
       "25   http://elections.huffingtonpost.com/pollster/p...   \n",
       "26   http://elections.huffingtonpost.com/pollster/p...   \n",
       "27   http://elections.huffingtonpost.com/pollster/p...   \n",
       "28   http://elections.huffingtonpost.com/pollster/p...   \n",
       "29   http://elections.huffingtonpost.com/pollster/p...   \n",
       "..                                                 ...   \n",
       "560  http://elections.huffingtonpost.com/pollster/p...   \n",
       "561  http://elections.huffingtonpost.com/pollster/p...   \n",
       "562  http://elections.huffingtonpost.com/pollster/p...   \n",
       "563  http://elections.huffingtonpost.com/pollster/p...   \n",
       "564  http://elections.huffingtonpost.com/pollster/p...   \n",
       "565  http://elections.huffingtonpost.com/pollster/p...   \n",
       "566  http://elections.huffingtonpost.com/pollster/p...   \n",
       "567  http://elections.huffingtonpost.com/pollster/p...   \n",
       "568  http://elections.huffingtonpost.com/pollster/p...   \n",
       "569  http://elections.huffingtonpost.com/pollster/p...   \n",
       "570  http://elections.huffingtonpost.com/pollster/p...   \n",
       "571  http://elections.huffingtonpost.com/pollster/p...   \n",
       "572  http://elections.huffingtonpost.com/pollster/p...   \n",
       "573  http://elections.huffingtonpost.com/pollster/p...   \n",
       "574  http://elections.huffingtonpost.com/pollster/p...   \n",
       "575  http://elections.huffingtonpost.com/pollster/p...   \n",
       "576  http://elections.huffingtonpost.com/pollster/p...   \n",
       "577  http://elections.huffingtonpost.com/pollster/p...   \n",
       "578  http://elections.huffingtonpost.com/pollster/p...   \n",
       "579  http://elections.huffingtonpost.com/pollster/p...   \n",
       "580  http://elections.huffingtonpost.com/pollster/p...   \n",
       "581  http://elections.huffingtonpost.com/pollster/p...   \n",
       "582  http://elections.huffingtonpost.com/pollster/p...   \n",
       "583  http://elections.huffingtonpost.com/pollster/p...   \n",
       "584  http://elections.huffingtonpost.com/pollster/p...   \n",
       "585  http://elections.huffingtonpost.com/pollster/p...   \n",
       "586  http://elections.huffingtonpost.com/pollster/p...   \n",
       "587  http://elections.huffingtonpost.com/pollster/p...   \n",
       "588  http://elections.huffingtonpost.com/pollster/p...   \n",
       "589  http://elections.huffingtonpost.com/pollster/p...   \n",
       "\n",
       "                                            Source URL     Partisan  \\\n",
       "0    http://www.politico.com/news/stories/1112/8338...  Nonpartisan   \n",
       "1    http://www.gravispolls.com/2012/11/gravis-mark...  Nonpartisan   \n",
       "2    http://news.investors.com/special-report/50841...  Nonpartisan   \n",
       "3                          http://www.jzanalytics.com/      Sponsor   \n",
       "4    http://www.rasmussenreports.com/public_content...  Nonpartisan   \n",
       "5                                                  NaN  Nonpartisan   \n",
       "6    http://cdn.yougov.com/cumulus_uploads/document...  Nonpartisan   \n",
       "7    http://big.assets.huffingtonpost.com/ipsos1105...  Nonpartisan   \n",
       "8    http://americanresearchgroup.com/pres2012/NA12...  Nonpartisan   \n",
       "9    http://i2.cdn.turner.com/cnn/2012/images/11/04...  Nonpartisan   \n",
       "10   http://www.publicpolicypolling.com/pdf/2011/PP...      Sponsor   \n",
       "11   http://www.washingtonpost.com/blogs/the-fix/wp...  Nonpartisan   \n",
       "12     http://www.dailykos.com/weeklypolling/2012/11/1      Sponsor   \n",
       "13   http://big.assets.huffingtonpost.com/demcorpst...     Pollster   \n",
       "14   http://www.gallup.com/poll/157817/election-201...  Nonpartisan   \n",
       "15   http://cms.monmouth.edu/assets/0/84/159/214748...  Nonpartisan   \n",
       "16   http://www.angus-reid.com/polls/47681/obama-ho...  Nonpartisan   \n",
       "17   http://firstread.nbcnews.com/_news/2012/11/04/...  Nonpartisan   \n",
       "18   http://www.people-press.org/2012/11/04/obama-g...  Nonpartisan   \n",
       "19   http://cdn.yougov.com/r/1/ygTabs_november_like...  Nonpartisan   \n",
       "20                                                 NaN  Nonpartisan   \n",
       "21   http://www.rasmussenreports.com/public_content...  Nonpartisan   \n",
       "22   http://www.purplestrategies.com/wp-content/upl...  Nonpartisan   \n",
       "23                         http://www.jzanalytics.com/      Sponsor   \n",
       "24   http://www.publicpolicypolling.com/pdf/2011/PP...      Sponsor   \n",
       "25   https://mediarelations.gwu.edu/sites/mediarela...  Nonpartisan   \n",
       "26   http://www.scribd.com/doc/111916274/UPI-CVoter...  Nonpartisan   \n",
       "27   http://www.washingtontimes.com/news/2012/nov/1...  Nonpartisan   \n",
       "28   http://www.washingtonpost.com/blogs/the-fix/wp...  Nonpartisan   \n",
       "29   http://big.assets.huffingtonpost.com/ipsos1031...  Nonpartisan   \n",
       "..                                                 ...          ...   \n",
       "560  http://politicalticker.blogs.cnn.com/2010/11/0...  Nonpartisan   \n",
       "561  http://www.foxnews.com/projects/pdf/100110_fox...  Nonpartisan   \n",
       "562  http://www.publicpolicypolling.com/pdf/PPP_Rel...     Pollster   \n",
       "563  http://www.politico.com/static/PPM152_1008013_...  Nonpartisan   \n",
       "564  http://www.publicpolicypolling.com/pdf/PPP_Rel...     Pollster   \n",
       "565  http://politics.usnews.com/news/blogs/washingt...  Nonpartisan   \n",
       "566  http://www.politico.com/static/PPM136_100718_p...  Nonpartisan   \n",
       "567  http://www.publicpolicypolling.com/pdf/PPP_Rel...     Pollster   \n",
       "568  http://www.publicpolicypolling.com/pdf/PPP_Rel...     Pollster   \n",
       "569  http://www.publicpolicypolling.com/pdf/PPP_Rel...     Pollster   \n",
       "570  http://i2.cdn.turner.com/cnn/2010/images/04/13...  Nonpartisan   \n",
       "571  http://www.publicpolicypolling.com/pdf/PPP_Rel...     Pollster   \n",
       "572  http://www.clarusrg.com/sites/default/files/Cl...  Nonpartisan   \n",
       "573  http://www.publicpolicypolling.com/pdf/PPP_Rel...     Pollster   \n",
       "574  http://www.publicpolicypolling.com/pdf/PPP_Rel...     Pollster   \n",
       "575  http://www.publicpolicypolling.com/pdf/PPP_Rel...     Pollster   \n",
       "576  http://www.foxnews.com/projects/pdf/012110_pol...  Nonpartisan   \n",
       "577  http://www.publicpolicypolling.com/pdf/surveys...     Pollster   \n",
       "578  http://www.rasmussenreports.com/public_content...  Nonpartisan   \n",
       "579  http://www.publicpolicypolling.com/pdf/surveys...     Pollster   \n",
       "580  http://www.publicpolicypolling.com/pdf/surveys...     Pollster   \n",
       "581  http://www.publicpolicypolling.com/pdf/surveys...     Pollster   \n",
       "582  http://www.clarusrg.com/press_releases/2009/Ob...  Nonpartisan   \n",
       "583  http://www.publicpolicypolling.com/pdf/surveys...     Pollster   \n",
       "584  http://www.rasmussenreports.com/public_content...  Nonpartisan   \n",
       "585  http://www.publicpolicypolling.com/pdf/surveys...     Pollster   \n",
       "586  http://www.publicpolicypolling.com/pdf/surveys...     Pollster   \n",
       "587  http://www.publicpolicypolling.com/pdf/surveys...     Pollster   \n",
       "588  http://www.publicpolicypolling.com/pdf/surveys...     Pollster   \n",
       "589  http://www.publicpolicypolling.com/pdf/PPP_Rel...     Pollster   \n",
       "\n",
       "    Affiliation  \n",
       "0          None  \n",
       "1          None  \n",
       "2          None  \n",
       "3           Rep  \n",
       "4          None  \n",
       "5          None  \n",
       "6          None  \n",
       "7          None  \n",
       "8          None  \n",
       "9          None  \n",
       "10          Dem  \n",
       "11         None  \n",
       "12          Dem  \n",
       "13          Dem  \n",
       "14         None  \n",
       "15         None  \n",
       "16         None  \n",
       "17         None  \n",
       "18         None  \n",
       "19         None  \n",
       "20         None  \n",
       "21         None  \n",
       "22         None  \n",
       "23          Rep  \n",
       "24          Dem  \n",
       "25         None  \n",
       "26         None  \n",
       "27         None  \n",
       "28         None  \n",
       "29         None  \n",
       "..          ...  \n",
       "560        None  \n",
       "561        None  \n",
       "562         Dem  \n",
       "563        None  \n",
       "564         Dem  \n",
       "565        None  \n",
       "566        None  \n",
       "567         Dem  \n",
       "568         Dem  \n",
       "569         Dem  \n",
       "570        None  \n",
       "571         Dem  \n",
       "572        None  \n",
       "573         Dem  \n",
       "574         Dem  \n",
       "575         Dem  \n",
       "576        None  \n",
       "577         Dem  \n",
       "578        None  \n",
       "579         Dem  \n",
       "580         Dem  \n",
       "581         Dem  \n",
       "582        None  \n",
       "583         Dem  \n",
       "584        None  \n",
       "585         Dem  \n",
       "586         Dem  \n",
       "587         Dem  \n",
       "588         Dem  \n",
       "589         Dem  \n",
       "\n",
       "[590 rows x 15 columns]>"
      ]
     },
     "execution_count": 10,
     "metadata": {},
     "output_type": "execute_result"
    }
   ],
   "source": [
    "poll_df.info"
   ]
  },
  {
   "cell_type": "code",
   "execution_count": 11,
   "metadata": {
    "collapsed": false
   },
   "outputs": [
    {
     "data": {
      "text/html": [
       "<div>\n",
       "<table border=\"1\" class=\"dataframe\">\n",
       "  <thead>\n",
       "    <tr style=\"text-align: right;\">\n",
       "      <th></th>\n",
       "      <th>Pollster</th>\n",
       "      <th>Start Date</th>\n",
       "      <th>End Date</th>\n",
       "      <th>Entry Date/Time (ET)</th>\n",
       "      <th>Number of Observations</th>\n",
       "      <th>Population</th>\n",
       "      <th>Mode</th>\n",
       "      <th>Obama</th>\n",
       "      <th>Romney</th>\n",
       "      <th>Other</th>\n",
       "      <th>Undecided</th>\n",
       "      <th>Pollster URL</th>\n",
       "      <th>Source URL</th>\n",
       "      <th>Partisan</th>\n",
       "      <th>Affiliation</th>\n",
       "    </tr>\n",
       "  </thead>\n",
       "  <tbody>\n",
       "    <tr>\n",
       "      <th>0</th>\n",
       "      <td>Politico/GWU/Battleground</td>\n",
       "      <td>2012-11-04</td>\n",
       "      <td>2012-11-05</td>\n",
       "      <td>2012-11-06T08:40:26Z</td>\n",
       "      <td>1000.0</td>\n",
       "      <td>Likely Voters</td>\n",
       "      <td>Live Phone</td>\n",
       "      <td>47</td>\n",
       "      <td>47</td>\n",
       "      <td>NaN</td>\n",
       "      <td>6.0</td>\n",
       "      <td>http://elections.huffingtonpost.com/pollster/p...</td>\n",
       "      <td>http://www.politico.com/news/stories/1112/8338...</td>\n",
       "      <td>Nonpartisan</td>\n",
       "      <td>None</td>\n",
       "    </tr>\n",
       "    <tr>\n",
       "      <th>1</th>\n",
       "      <td>Gravis Marketing</td>\n",
       "      <td>2012-11-03</td>\n",
       "      <td>2012-11-05</td>\n",
       "      <td>2012-11-06T09:22:02Z</td>\n",
       "      <td>872.0</td>\n",
       "      <td>Likely Voters</td>\n",
       "      <td>Automated Phone</td>\n",
       "      <td>48</td>\n",
       "      <td>48</td>\n",
       "      <td>NaN</td>\n",
       "      <td>4.0</td>\n",
       "      <td>http://elections.huffingtonpost.com/pollster/p...</td>\n",
       "      <td>http://www.gravispolls.com/2012/11/gravis-mark...</td>\n",
       "      <td>Nonpartisan</td>\n",
       "      <td>None</td>\n",
       "    </tr>\n",
       "    <tr>\n",
       "      <th>2</th>\n",
       "      <td>IBD/TIPP</td>\n",
       "      <td>2012-11-03</td>\n",
       "      <td>2012-11-05</td>\n",
       "      <td>2012-11-06T08:51:48Z</td>\n",
       "      <td>712.0</td>\n",
       "      <td>Likely Voters</td>\n",
       "      <td>Live Phone</td>\n",
       "      <td>50</td>\n",
       "      <td>49</td>\n",
       "      <td>1.0</td>\n",
       "      <td>NaN</td>\n",
       "      <td>http://elections.huffingtonpost.com/pollster/p...</td>\n",
       "      <td>http://news.investors.com/special-report/50841...</td>\n",
       "      <td>Nonpartisan</td>\n",
       "      <td>None</td>\n",
       "    </tr>\n",
       "    <tr>\n",
       "      <th>3</th>\n",
       "      <td>JZ Analytics/Newsmax</td>\n",
       "      <td>2012-11-03</td>\n",
       "      <td>2012-11-05</td>\n",
       "      <td>2012-11-06T07:38:41Z</td>\n",
       "      <td>1041.0</td>\n",
       "      <td>Likely Voters</td>\n",
       "      <td>Internet</td>\n",
       "      <td>47</td>\n",
       "      <td>47</td>\n",
       "      <td>NaN</td>\n",
       "      <td>6.0</td>\n",
       "      <td>http://elections.huffingtonpost.com/pollster/p...</td>\n",
       "      <td>http://www.jzanalytics.com/</td>\n",
       "      <td>Sponsor</td>\n",
       "      <td>Rep</td>\n",
       "    </tr>\n",
       "    <tr>\n",
       "      <th>4</th>\n",
       "      <td>Rasmussen</td>\n",
       "      <td>2012-11-03</td>\n",
       "      <td>2012-11-05</td>\n",
       "      <td>2012-11-06T08:47:50Z</td>\n",
       "      <td>1500.0</td>\n",
       "      <td>Likely Voters</td>\n",
       "      <td>Automated Phone</td>\n",
       "      <td>48</td>\n",
       "      <td>49</td>\n",
       "      <td>NaN</td>\n",
       "      <td>NaN</td>\n",
       "      <td>http://elections.huffingtonpost.com/pollster/p...</td>\n",
       "      <td>http://www.rasmussenreports.com/public_content...</td>\n",
       "      <td>Nonpartisan</td>\n",
       "      <td>None</td>\n",
       "    </tr>\n",
       "  </tbody>\n",
       "</table>\n",
       "</div>"
      ],
      "text/plain": [
       "                    Pollster  Start Date    End Date  Entry Date/Time (ET)  \\\n",
       "0  Politico/GWU/Battleground  2012-11-04  2012-11-05  2012-11-06T08:40:26Z   \n",
       "1           Gravis Marketing  2012-11-03  2012-11-05  2012-11-06T09:22:02Z   \n",
       "2                   IBD/TIPP  2012-11-03  2012-11-05  2012-11-06T08:51:48Z   \n",
       "3       JZ Analytics/Newsmax  2012-11-03  2012-11-05  2012-11-06T07:38:41Z   \n",
       "4                  Rasmussen  2012-11-03  2012-11-05  2012-11-06T08:47:50Z   \n",
       "\n",
       "   Number of Observations     Population             Mode  Obama  Romney  \\\n",
       "0                  1000.0  Likely Voters       Live Phone     47      47   \n",
       "1                   872.0  Likely Voters  Automated Phone     48      48   \n",
       "2                   712.0  Likely Voters       Live Phone     50      49   \n",
       "3                  1041.0  Likely Voters         Internet     47      47   \n",
       "4                  1500.0  Likely Voters  Automated Phone     48      49   \n",
       "\n",
       "   Other  Undecided                                       Pollster URL  \\\n",
       "0    NaN        6.0  http://elections.huffingtonpost.com/pollster/p...   \n",
       "1    NaN        4.0  http://elections.huffingtonpost.com/pollster/p...   \n",
       "2    1.0        NaN  http://elections.huffingtonpost.com/pollster/p...   \n",
       "3    NaN        6.0  http://elections.huffingtonpost.com/pollster/p...   \n",
       "4    NaN        NaN  http://elections.huffingtonpost.com/pollster/p...   \n",
       "\n",
       "                                          Source URL     Partisan Affiliation  \n",
       "0  http://www.politico.com/news/stories/1112/8338...  Nonpartisan        None  \n",
       "1  http://www.gravispolls.com/2012/11/gravis-mark...  Nonpartisan        None  \n",
       "2  http://news.investors.com/special-report/50841...  Nonpartisan        None  \n",
       "3                        http://www.jzanalytics.com/      Sponsor         Rep  \n",
       "4  http://www.rasmussenreports.com/public_content...  Nonpartisan        None  "
      ]
     },
     "execution_count": 11,
     "metadata": {},
     "output_type": "execute_result"
    }
   ],
   "source": [
    "poll_df.head()"
   ]
  },
  {
   "cell_type": "code",
   "execution_count": 12,
   "metadata": {
    "collapsed": false
   },
   "outputs": [
    {
     "data": {
      "text/plain": [
       "<seaborn.axisgrid.FacetGrid at 0x113a74f10>"
      ]
     },
     "execution_count": 12,
     "metadata": {},
     "output_type": "execute_result"
    },
    {
     "data": {
      "image/png": "[encoded data removed]",
      "text/plain": [
       "<matplotlib.figure.Figure at 0x113a749d0>"
      ]
     },
     "metadata": {},
     "output_type": "display_data"
    }
   ],
   "source": [
    "sns.factorplot('Affiliation', data=poll_df, kind='count')"
   ]
  },
  {
   "cell_type": "code",
   "execution_count": 13,
   "metadata": {
    "collapsed": false
   },
   "outputs": [
    {
     "data": {
      "text/plain": [
       "<seaborn.axisgrid.FacetGrid at 0x117282090>"
      ]
     },
     "execution_count": 13,
     "metadata": {},
     "output_type": "execute_result"
    },
    {
     "data": {
      "image/png": "[encoded data removed]",
      "text/plain": [
       "<matplotlib.figure.Figure at 0x119a0c350>"
      ]
     },
     "metadata": {},
     "output_type": "display_data"
    }
   ],
   "source": [
    "sns.factorplot('Affiliation', data=poll_df, kind='count', hue='Population')"
   ]
  },
  {
   "cell_type": "code",
   "execution_count": 14,
   "metadata": {
    "collapsed": true
   },
   "outputs": [],
   "source": [
    "avg = pd.DataFrame(poll_df.mean())\n",
    "\n",
    "avg.drop('Number of Observations', axis=0, inplace=True)"
   ]
  },
  {
   "cell_type": "code",
   "execution_count": 15,
   "metadata": {
    "collapsed": true
   },
   "outputs": [],
   "source": [
    "std = pd.DataFrame(poll_df.std())\n",
    "\n",
    "std.drop('Number of Observations', axis=0, inplace=True)"
   ]
  },
  {
   "cell_type": "code",
   "execution_count": 16,
   "metadata": {
    "collapsed": false
   },
   "outputs": [
    {
     "data": {
      "text/plain": [
       "<matplotlib.axes._subplots.AxesSubplot at 0x119a46ed0>"
      ]
     },
     "execution_count": 16,
     "metadata": {},
     "output_type": "execute_result"
    },
    {
     "data": {
      "image/png": "[encoded data removed]",
      "text/plain": [
       "<matplotlib.figure.Figure at 0x11a1ff350>"
      ]
     },
     "metadata": {},
     "output_type": "display_data"
    }
   ],
   "source": [
    "avg.plot(yerr=std, kind='bar', legend=False)"
   ]
  },
  {
   "cell_type": "code",
   "execution_count": 19,
   "metadata": {
    "collapsed": false
   },
   "outputs": [
    {
     "data": {
      "text/html": [
       "<div>\n",
       "<table border=\"1\" class=\"dataframe\">\n",
       "  <thead>\n",
       "    <tr style=\"text-align: right;\">\n",
       "      <th></th>\n",
       "      <th>Average</th>\n",
       "      <th>STD</th>\n",
       "    </tr>\n",
       "  </thead>\n",
       "  <tbody>\n",
       "    <tr>\n",
       "      <th>Obama</th>\n",
       "      <td>46.774576</td>\n",
       "      <td>2.447069</td>\n",
       "    </tr>\n",
       "    <tr>\n",
       "      <th>Romney</th>\n",
       "      <td>44.572881</td>\n",
       "      <td>2.925320</td>\n",
       "    </tr>\n",
       "    <tr>\n",
       "      <th>Other</th>\n",
       "      <td>3.400990</td>\n",
       "      <td>2.721318</td>\n",
       "    </tr>\n",
       "    <tr>\n",
       "      <th>Undecided</th>\n",
       "      <td>6.546099</td>\n",
       "      <td>3.698614</td>\n",
       "    </tr>\n",
       "  </tbody>\n",
       "</table>\n",
       "</div>"
      ],
      "text/plain": [
       "             Average       STD\n",
       "Obama      46.774576  2.447069\n",
       "Romney     44.572881  2.925320\n",
       "Other       3.400990  2.721318\n",
       "Undecided   6.546099  3.698614"
      ]
     },
     "execution_count": 19,
     "metadata": {},
     "output_type": "execute_result"
    }
   ],
   "source": [
    "poll_avg = pd.concat( [avg,std], axis=1 )\n",
    "poll_avg.columns = ['Average','STD']\n",
    "poll_avg"
   ]
  },
  {
   "cell_type": "code",
   "execution_count": 21,
   "metadata": {
    "collapsed": false
   },
   "outputs": [
    {
     "data": {
      "text/plain": [
       "<matplotlib.axes._subplots.AxesSubplot at 0x11a5b1e50>"
      ]
     },
     "execution_count": 21,
     "metadata": {},
     "output_type": "execute_result"
    },
    {
     "data": {
      "image/png": "[encoded data removed]",
      "text/plain": [
       "<matplotlib.figure.Figure at 0x11a681990>"
      ]
     },
     "metadata": {},
     "output_type": "display_data"
    }
   ],
   "source": [
    "poll_df.plot(x='End Date', y=['Obama','Romney','Undecided'], linestyle='', marker='o', figsize=(15,4))"
   ]
  },
  {
   "cell_type": "code",
   "execution_count": 22,
   "metadata": {
    "collapsed": true
   },
   "outputs": [],
   "source": [
    "# cleaner way to visualize the data above.\n",
    "# create a difference column, and plot that over time (positive or negative for each canditate)\n",
    "\n",
    "from datetime import datetime\n",
    "\n",
    "poll_df['Diff'] = (poll_df.Obama - poll_df.Romney)/100"
   ]
  },
  {
   "cell_type": "code",
   "execution_count": 24,
   "metadata": {
    "collapsed": false
   },
   "outputs": [
    {
     "data": {
      "text/html": [
       "<div>\n",
       "<table border=\"1\" class=\"dataframe\">\n",
       "  <thead>\n",
       "    <tr style=\"text-align: right;\">\n",
       "      <th></th>\n",
       "      <th>Start Date</th>\n",
       "      <th>Number of Observations</th>\n",
       "      <th>Obama</th>\n",
       "      <th>Romney</th>\n",
       "      <th>Other</th>\n",
       "      <th>Undecided</th>\n",
       "      <th>Diff</th>\n",
       "    </tr>\n",
       "  </thead>\n",
       "  <tbody>\n",
       "    <tr>\n",
       "      <th>0</th>\n",
       "      <td>2009-03-13</td>\n",
       "      <td>1403.0</td>\n",
       "      <td>44.0</td>\n",
       "      <td>44.0</td>\n",
       "      <td>NaN</td>\n",
       "      <td>12.0</td>\n",
       "      <td>0.00</td>\n",
       "    </tr>\n",
       "    <tr>\n",
       "      <th>1</th>\n",
       "      <td>2009-04-17</td>\n",
       "      <td>686.0</td>\n",
       "      <td>50.0</td>\n",
       "      <td>39.0</td>\n",
       "      <td>NaN</td>\n",
       "      <td>11.0</td>\n",
       "      <td>0.11</td>\n",
       "    </tr>\n",
       "    <tr>\n",
       "      <th>2</th>\n",
       "      <td>2009-05-14</td>\n",
       "      <td>1000.0</td>\n",
       "      <td>53.0</td>\n",
       "      <td>35.0</td>\n",
       "      <td>NaN</td>\n",
       "      <td>12.0</td>\n",
       "      <td>0.18</td>\n",
       "    </tr>\n",
       "    <tr>\n",
       "      <th>3</th>\n",
       "      <td>2009-06-12</td>\n",
       "      <td>638.0</td>\n",
       "      <td>48.0</td>\n",
       "      <td>40.0</td>\n",
       "      <td>NaN</td>\n",
       "      <td>12.0</td>\n",
       "      <td>0.08</td>\n",
       "    </tr>\n",
       "    <tr>\n",
       "      <th>4</th>\n",
       "      <td>2009-07-15</td>\n",
       "      <td>577.0</td>\n",
       "      <td>49.0</td>\n",
       "      <td>40.0</td>\n",
       "      <td>NaN</td>\n",
       "      <td>11.0</td>\n",
       "      <td>0.09</td>\n",
       "    </tr>\n",
       "  </tbody>\n",
       "</table>\n",
       "</div>"
      ],
      "text/plain": [
       "   Start Date  Number of Observations  Obama  Romney  Other  Undecided  Diff\n",
       "0  2009-03-13                  1403.0   44.0    44.0    NaN       12.0  0.00\n",
       "1  2009-04-17                   686.0   50.0    39.0    NaN       11.0  0.11\n",
       "2  2009-05-14                  1000.0   53.0    35.0    NaN       12.0  0.18\n",
       "3  2009-06-12                   638.0   48.0    40.0    NaN       12.0  0.08\n",
       "4  2009-07-15                   577.0   49.0    40.0    NaN       11.0  0.09"
      ]
     },
     "execution_count": 24,
     "metadata": {},
     "output_type": "execute_result"
    }
   ],
   "source": [
    "    poll_df = poll_df.groupby(['Start Date'],as_index=False).mean()\n",
    "\n",
    "poll_df.head()"
   ]
  },
  {
   "cell_type": "code",
   "execution_count": 26,
   "metadata": {
    "collapsed": false
   },
   "outputs": [
    {
     "data": {
      "text/plain": [
       "<matplotlib.axes._subplots.AxesSubplot at 0x11b0aa310>"
      ]
     },
     "execution_count": 26,
     "metadata": {},
     "output_type": "execute_result"
    },
    {
     "data": {
      "image/png": "[encoded data removed]",
      "text/plain": [
       "<matplotlib.figure.Figure at 0x11b004250>"
      ]
     },
     "metadata": {},
     "output_type": "display_data"
    }
   ],
   "source": [
    "poll_df.plot('Start Date','Diff', figsize=(15,4),marker='o',linestyle='',color='purple')"
   ]
  },
  {
   "cell_type": "code",
   "execution_count": 28,
   "metadata": {
    "collapsed": false
   },
   "outputs": [
    {
     "name": "stdout",
     "output_type": "stream",
     "text": [
      "329\n",
      "356\n"
     ]
    }
   ],
   "source": [
    "row_in = 0\n",
    "xlimit = []\n",
    "\n",
    "for date in poll_df['Start Date']:\n",
    "    if date[0:7] == '2012-10':\n",
    "        xlimit.append(row_in)\n",
    "        row_in += 1\n",
    "    else:\n",
    "        row_in += 1\n",
    "\n",
    "print min(xlimit)\n",
    "print max(xlimit)"
   ]
  },
  {
   "cell_type": "code",
   "execution_count": 42,
   "metadata": {
    "collapsed": false
   },
   "outputs": [
    {
     "data": {
      "text/plain": [
       "<matplotlib.lines.Line2D at 0x11dccf1d0>"
      ]
     },
     "execution_count": 42,
     "metadata": {},
     "output_type": "execute_result"
    },
    {
     "data": {
      "image/png": "[encoded data removed]",
      "text/plain": [
       "<matplotlib.figure.Figure at 0x11d9ed190>"
      ]
     },
     "metadata": {},
     "output_type": "display_data"
    }
   ],
   "source": [
    "poll_df.plot('Start Date','Diff', figsize=(15,4),marker='o',linestyle='-', xlim=(329,356))\n",
    "\n",
    "plt.axvline(x=329+2, linewidth=3, color='grey')\n",
    "plt.axvline(x=329+10, linewidth=3, color='grey')\n",
    "plt.axvline(x=329+21, linewidth=3, color='grey')"
   ]
  },
  {
   "cell_type": "code",
   "execution_count": null,
   "metadata": {
    "collapsed": true
   },
   "outputs": [],
   "source": []
  },
  {
   "cell_type": "code",
   "execution_count": null,
   "metadata": {
    "collapsed": true
   },
   "outputs": [],
   "source": []
  },
  {
   "cell_type": "code",
   "execution_count": null,
   "metadata": {
    "collapsed": true
   },
   "outputs": [],
   "source": []
  },
  {
   "cell_type": "code",
   "execution_count": null,
   "metadata": {
    "collapsed": true
   },
   "outputs": [],
   "source": []
  },
  {
   "cell_type": "code",
   "execution_count": null,
   "metadata": {
    "collapsed": true
   },
   "outputs": [],
   "source": []
  }
 ],
 "metadata": {
  "kernelspec": {
   "display_name": "Python 2",
   "language": "python",
   "name": "python2"
  },
  "language_info": {
   "codemirror_mode": {
    "name": "ipython",
    "version": 2
   },
   "file_extension": ".py",
   "mimetype": "text/x-python",
   "name": "python",
   "nbconvert_exporter": "python",
   "pygments_lexer": "ipython2",
   "version": "2.7.11"
  }
 },
 "nbformat": 4,
 "nbformat_minor": 0
}
