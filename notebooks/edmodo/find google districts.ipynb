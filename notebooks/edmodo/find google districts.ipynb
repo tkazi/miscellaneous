{
 "cells": [
  {
   "cell_type": "code",
   "execution_count": 2,
   "metadata": {
    "collapsed": true
   },
   "outputs": [],
   "source": [
    "import pandas as pd"
   ]
  },
  {
   "cell_type": "code",
   "execution_count": 3,
   "metadata": {
    "collapsed": false
   },
   "outputs": [],
   "source": [
    "df = pd.read_csv('/Users/Taha/Desktop/districts.csv')"
   ]
  },
  {
   "cell_type": "code",
   "execution_count": 4,
   "metadata": {
    "collapsed": false
   },
   "outputs": [],
   "source": [
    "df = df.rename(columns={'4':'id','Alabama School Of Fine Arts':'name','@gmail.com':'email'})"
   ]
  },
  {
   "cell_type": "code",
   "execution_count": 5,
   "metadata": {
    "collapsed": false
   },
   "outputs": [
    {
     "data": {
      "text/html": [
       "<div>\n",
       "<table border=\"1\" class=\"dataframe\">\n",
       "  <thead>\n",
       "    <tr style=\"text-align: right;\">\n",
       "      <th></th>\n",
       "      <th>id</th>\n",
       "      <th>name</th>\n",
       "      <th>email</th>\n",
       "    </tr>\n",
       "  </thead>\n",
       "  <tbody>\n",
       "    <tr>\n",
       "      <th>0</th>\n",
       "      <td>6</td>\n",
       "      <td>Albertville City</td>\n",
       "      <td>@albertk12.org</td>\n",
       "    </tr>\n",
       "    <tr>\n",
       "      <th>1</th>\n",
       "      <td>7</td>\n",
       "      <td>Alexander City</td>\n",
       "      <td>@alex.k12.al.us</td>\n",
       "    </tr>\n",
       "    <tr>\n",
       "      <th>2</th>\n",
       "      <td>8</td>\n",
       "      <td>Andalusia City</td>\n",
       "      <td>@gmail.com</td>\n",
       "    </tr>\n",
       "    <tr>\n",
       "      <th>3</th>\n",
       "      <td>9</td>\n",
       "      <td>Anniston City</td>\n",
       "      <td>@anniston.k12.al.us</td>\n",
       "    </tr>\n",
       "    <tr>\n",
       "      <th>4</th>\n",
       "      <td>10</td>\n",
       "      <td>Arab City Schools</td>\n",
       "      <td>@arabcityschools.org</td>\n",
       "    </tr>\n",
       "  </tbody>\n",
       "</table>\n",
       "</div>"
      ],
      "text/plain": [
       "   id               name                 email\n",
       "0   6   Albertville City        @albertk12.org\n",
       "1   7     Alexander City       @alex.k12.al.us\n",
       "2   8     Andalusia City            @gmail.com\n",
       "3   9      Anniston City   @anniston.k12.al.us\n",
       "4  10  Arab City Schools  @arabcityschools.org"
      ]
     },
     "execution_count": 5,
     "metadata": {},
     "output_type": "execute_result"
    }
   ],
   "source": [
    "df.head()"
   ]
  },
  {
   "cell_type": "code",
   "execution_count": 16,
   "metadata": {
    "collapsed": true
   },
   "outputs": [],
   "source": [
    "import sys\n",
    "import re\n",
    "import dns.resolver   # Requires dnspython\n",
    "\n",
    "email_host_regex = re.compile(\".*@(.*)$\")\n",
    "gmail_servers_regex = re.compile(\"(.google.com.|.googlemail.com.|.psmtp.com.)$\", re.IGNORECASE)\n",
    "\n",
    "def is_gmail(email):\n",
    "        \"\"\" Returns True if email address is a google hosted email - hosted Gmail address \n",
    "        Checks are performed by checking the DNS MX records \"\"\"\n",
    "        m = email_host_regex.findall(email)\n",
    "        try:\n",
    "            if m and len(m) > 0:\n",
    "                    host = m[0]\n",
    "                    if host and host != '':\n",
    "                            host = host.lower()\n",
    "\n",
    "                    if host == \"gmail.com\":\n",
    "                            return True\n",
    "                    else:\n",
    "                            answers = dns.resolver.query(host, 'MX')\n",
    "                            for rdata in answers:\n",
    "                                    print rdata\n",
    "                                    m = gmail_servers_regex.findall(str(rdata.exchange))\n",
    "                                    #print m\n",
    "                                    if m and len(m) > 0:\n",
    "                                            return True\n",
    "            return False\n",
    "        except:\n",
    "            return False\n",
    "            pass\n",
    "    \n"
   ]
  },
  {
   "cell_type": "code",
   "execution_count": 7,
   "metadata": {
    "collapsed": false
   },
   "outputs": [],
   "source": [
    "df['test_email'] = 'test' + df['email']"
   ]
  },
  {
   "cell_type": "code",
   "execution_count": 8,
   "metadata": {
    "collapsed": false
   },
   "outputs": [
    {
     "data": {
      "text/html": [
       "<div>\n",
       "<table border=\"1\" class=\"dataframe\">\n",
       "  <thead>\n",
       "    <tr style=\"text-align: right;\">\n",
       "      <th></th>\n",
       "      <th>id</th>\n",
       "      <th>name</th>\n",
       "      <th>email</th>\n",
       "      <th>test_email</th>\n",
       "    </tr>\n",
       "  </thead>\n",
       "  <tbody>\n",
       "    <tr>\n",
       "      <th>0</th>\n",
       "      <td>6</td>\n",
       "      <td>Albertville City</td>\n",
       "      <td>@albertk12.org</td>\n",
       "      <td>test@albertk12.org</td>\n",
       "    </tr>\n",
       "    <tr>\n",
       "      <th>1</th>\n",
       "      <td>7</td>\n",
       "      <td>Alexander City</td>\n",
       "      <td>@alex.k12.al.us</td>\n",
       "      <td>test@alex.k12.al.us</td>\n",
       "    </tr>\n",
       "    <tr>\n",
       "      <th>2</th>\n",
       "      <td>8</td>\n",
       "      <td>Andalusia City</td>\n",
       "      <td>@gmail.com</td>\n",
       "      <td>test@gmail.com</td>\n",
       "    </tr>\n",
       "    <tr>\n",
       "      <th>3</th>\n",
       "      <td>9</td>\n",
       "      <td>Anniston City</td>\n",
       "      <td>@anniston.k12.al.us</td>\n",
       "      <td>test@anniston.k12.al.us</td>\n",
       "    </tr>\n",
       "    <tr>\n",
       "      <th>4</th>\n",
       "      <td>10</td>\n",
       "      <td>Arab City Schools</td>\n",
       "      <td>@arabcityschools.org</td>\n",
       "      <td>test@arabcityschools.org</td>\n",
       "    </tr>\n",
       "  </tbody>\n",
       "</table>\n",
       "</div>"
      ],
      "text/plain": [
       "   id               name                 email                test_email\n",
       "0   6   Albertville City        @albertk12.org        test@albertk12.org\n",
       "1   7     Alexander City       @alex.k12.al.us       test@alex.k12.al.us\n",
       "2   8     Andalusia City            @gmail.com            test@gmail.com\n",
       "3   9      Anniston City   @anniston.k12.al.us   test@anniston.k12.al.us\n",
       "4  10  Arab City Schools  @arabcityschools.org  test@arabcityschools.org"
      ]
     },
     "execution_count": 8,
     "metadata": {},
     "output_type": "execute_result"
    }
   ],
   "source": [
    "df.head()"
   ]
  },
  {
   "cell_type": "code",
   "execution_count": 9,
   "metadata": {
    "collapsed": false
   },
   "outputs": [],
   "source": [
    "df['is_google'] = df['test_email'].apply(is_gmail)\n",
    "# df['test_email'][30:100].apply(is_gmail)"
   ]
  },
  {
   "cell_type": "code",
   "execution_count": 10,
   "metadata": {
    "collapsed": false
   },
   "outputs": [
    {
     "data": {
      "text/plain": [
       "is_google\n",
       "False    3869\n",
       "True     3671\n",
       "dtype: int64"
      ]
     },
     "execution_count": 10,
     "metadata": {},
     "output_type": "execute_result"
    }
   ],
   "source": [
    "df.groupby('is_google').size()\n",
    "#df[0:50]"
   ]
  },
  {
   "cell_type": "code",
   "execution_count": 11,
   "metadata": {
    "collapsed": false
   },
   "outputs": [
    {
     "data": {
      "text/plain": [
       "7540"
      ]
     },
     "execution_count": 11,
     "metadata": {},
     "output_type": "execute_result"
    }
   ],
   "source": [
    "df['id'].count()"
   ]
  },
  {
   "cell_type": "code",
   "execution_count": 14,
   "metadata": {
    "collapsed": false
   },
   "outputs": [],
   "source": [
    "df.to_csv('/Users/Taha/Documents/edmodo/adoption_efforts_q2_2016/mx_google_districts.csv')"
   ]
  },
  {
   "cell_type": "code",
   "execution_count": 17,
   "metadata": {
    "collapsed": false
   },
   "outputs": [
    {
     "name": "stdout",
     "output_type": "stream",
     "text": [
      "0 florencek12-org.mail.protection.outlook.com.\n",
      "False\n"
     ]
    }
   ],
   "source": [
    "print is_gmail('@florencek12.org')"
   ]
  },
  {
   "cell_type": "code",
   "execution_count": null,
   "metadata": {
    "collapsed": true
   },
   "outputs": [],
   "source": []
  }
 ],
 "metadata": {
  "kernelspec": {
   "display_name": "Python 2",
   "language": "python",
   "name": "python2"
  },
  "language_info": {
   "codemirror_mode": {
    "name": "ipython",
    "version": 2
   },
   "file_extension": ".py",
   "mimetype": "text/x-python",
   "name": "python",
   "nbconvert_exporter": "python",
   "pygments_lexer": "ipython2",
   "version": "2.7.11"
  }
 },
 "nbformat": 4,
 "nbformat_minor": 0
}
